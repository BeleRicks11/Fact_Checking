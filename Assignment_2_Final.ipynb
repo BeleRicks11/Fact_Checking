{
  "cells": [
    {
      "cell_type": "markdown",
      "metadata": {
        "id": "3GM9DBN-Qz3k"
      },
      "source": [
        "# Assignment 2\n",
        "\n",
        "\n",
        "**Credits**: Andrea Galassi, Federico Ruggeri, Paolo Torroni\n",
        "\n",
        "**Summary**: Fact checking, Neural Languange Inference (**NLI**)\n",
        "\n",
        "**Authors**: \n",
        "\n",
        "*   Davide Mercanti: davide.mercanti@studio.unibo.it\n",
        "*   Riccardo Fava: riccardo.fava6@studio.unibo.it\n",
        "*   Luca Bompani: luca.bompani4@studio.unibo.it"
      ]
    },
    {
      "cell_type": "code",
      "execution_count": 1,
      "metadata": {
        "id": "oXJl-V9jCflb",
        "colab": {
          "base_uri": "https://localhost:8080/"
        },
        "outputId": "8e587165-526a-4a35-c85f-83d1851b822a"
      },
      "outputs": [
        {
          "output_type": "stream",
          "name": "stdout",
          "text": [
            "Collecting fasttext\n",
            "  Downloading fasttext-0.9.2.tar.gz (68 kB)\n",
            "\u001b[?25l\r\u001b[K     |████▊                           | 10 kB 21.9 MB/s eta 0:00:01\r\u001b[K     |█████████▌                      | 20 kB 24.1 MB/s eta 0:00:01\r\u001b[K     |██████████████▎                 | 30 kB 21.2 MB/s eta 0:00:01\r\u001b[K     |███████████████████             | 40 kB 16.5 MB/s eta 0:00:01\r\u001b[K     |███████████████████████▉        | 51 kB 12.3 MB/s eta 0:00:01\r\u001b[K     |████████████████████████████▋   | 61 kB 12.6 MB/s eta 0:00:01\r\u001b[K     |████████████████████████████████| 68 kB 3.7 MB/s \n",
            "\u001b[?25hCollecting pybind11>=2.2\n",
            "  Using cached pybind11-2.8.1-py2.py3-none-any.whl (208 kB)\n",
            "Requirement already satisfied: setuptools>=0.7.0 in /usr/local/lib/python3.7/dist-packages (from fasttext) (57.4.0)\n",
            "Requirement already satisfied: numpy in /usr/local/lib/python3.7/dist-packages (from fasttext) (1.19.5)\n",
            "Building wheels for collected packages: fasttext\n",
            "  Building wheel for fasttext (setup.py) ... \u001b[?25l\u001b[?25hdone\n",
            "  Created wheel for fasttext: filename=fasttext-0.9.2-cp37-cp37m-linux_x86_64.whl size=3121946 sha256=fa3ab8f7ed879f0144a9e0936862565e96e2c0b97eeccb6e863c82cf8abcf3f8\n",
            "  Stored in directory: /root/.cache/pip/wheels/4e/ca/bf/b020d2be95f7641801a6597a29c8f4f19e38f9c02a345bab9b\n",
            "Successfully built fasttext\n",
            "Installing collected packages: pybind11, fasttext\n",
            "Successfully installed fasttext-0.9.2 pybind11-2.8.1\n",
            "Requirement already satisfied: multiprocess in /usr/local/lib/python3.7/dist-packages (0.70.12.2)\n",
            "Requirement already satisfied: dill>=0.3.4 in /usr/local/lib/python3.7/dist-packages (from multiprocess) (0.3.4)\n"
          ]
        }
      ],
      "source": [
        "!pip install fasttext\n",
        "!pip install multiprocess"
      ]
    },
    {
      "cell_type": "code",
      "execution_count": 21,
      "metadata": {
        "id": "qMuI-qQv7ix0",
        "colab": {
          "base_uri": "https://localhost:8080/"
        },
        "outputId": "e65d9c69-bb4f-40dc-c024-793dce2d8782"
      },
      "outputs": [
        {
          "output_type": "stream",
          "name": "stdout",
          "text": [
            "Drive already mounted at /content/drive; to attempt to forcibly remount, call drive.mount(\"/content/drive\", force_remount=True).\n"
          ]
        }
      ],
      "source": [
        "from google.colab import drive\n",
        "\n",
        "drive.mount('/content/drive')\n",
        "\n",
        "PATH = '/content/drive/MyDrive/'"
      ]
    },
    {
      "cell_type": "code",
      "source": [
        "!cp /content/drive/MyDrive/UniBO/NLP/Assignent_2/util.py ."
      ],
      "metadata": {
        "id": "eddiy55rpB7V"
      },
      "execution_count": null,
      "outputs": []
    },
    {
      "cell_type": "code",
      "execution_count": 3,
      "metadata": {
        "id": "A4u47cS5CU4o",
        "colab": {
          "base_uri": "https://localhost:8080/"
        },
        "outputId": "42775da0-6798-45b9-babe-fec6e8ffe4ce"
      },
      "outputs": [
        {
          "output_type": "stream",
          "name": "stdout",
          "text": [
            "[nltk_data] Downloading package punkt to /root/nltk_data...\n",
            "[nltk_data]   Unzipping tokenizers/punkt.zip.\n"
          ]
        },
        {
          "output_type": "execute_result",
          "data": {
            "text/plain": [
              "device(type='cuda')"
            ]
          },
          "metadata": {},
          "execution_count": 3
        }
      ],
      "source": [
        "from collections import defaultdict\n",
        "from enum import Enum\n",
        "import time, string\n",
        "\n",
        "import matplotlib.pyplot as plt\n",
        "%matplotlib inline\n",
        "import numpy as np \n",
        "import pandas as pd\n",
        "\n",
        "from functools import reduce\n",
        "import re,sys,os\n",
        "import contextlib\n",
        "\n",
        "from sklearn.metrics import f1_score, recall_score, precision_score\n",
        "\n",
        "import nltk\n",
        "from nltk.corpus import stopwords\n",
        "from nltk.tokenize import word_tokenize\n",
        "nltk.download('punkt')\n",
        "\n",
        "from torch.nn.utils.rnn import pad_sequence\n",
        "from torch import tensor\n",
        "import torch.nn as nn\n",
        "import torch\n",
        "from torch.utils.data import DataLoader\n",
        "from torch.utils.data import Dataset\n",
        "from torch.nn.functional import pad\n",
        "\n",
        "import fasttext\n",
        "import fasttext.util\n",
        "import multiprocess as mp  # =! multiprocessing\n",
        "\n",
        "from util import *\n",
        "\n",
        "DEVICE = torch.device('cuda' if torch.cuda.is_available() else 'cpu')\n",
        "DEVICE"
      ]
    },
    {
      "cell_type": "code",
      "execution_count": 4,
      "metadata": {
        "id": "9MMcBsiCDpcb",
        "colab": {
          "base_uri": "https://localhost:8080/"
        },
        "outputId": "aeea5ab8-dbcf-4777-a7a5-56bf80627c0d"
      },
      "outputs": [
        {
          "output_type": "stream",
          "name": "stdout",
          "text": [
            "Downloading FEVER data splits...\n",
            "Download completed!\n",
            "Extracting dataset...\n",
            "Extraction completed!\n"
          ]
        }
      ],
      "source": [
        "import os\n",
        "import requests\n",
        "import zipfile\n",
        "\n",
        "def save_response_content(response, destination):\n",
        "    CHUNK_SIZE = 32768\n",
        "\n",
        "    with open(destination, \"wb\") as f:\n",
        "        for chunk in response.iter_content(CHUNK_SIZE):\n",
        "            if chunk: # filter out keep-alive new chunks\n",
        "                f.write(chunk)\n",
        "\n",
        "def download_data(data_path):\n",
        "    toy_data_path = os.path.join(data_path, 'fever_data.zip')\n",
        "    toy_data_url_id = \"1wArZhF9_SHW17WKNGeLmX-QTYw9Zscl1\"\n",
        "    toy_url = \"https://docs.google.com/uc?export=download\"\n",
        "\n",
        "    if not os.path.exists(data_path):\n",
        "        os.makedirs(data_path)\n",
        "\n",
        "    if not os.path.exists(toy_data_path):\n",
        "        print(\"Downloading FEVER data splits...\")\n",
        "        with requests.Session() as current_session:\n",
        "            response = current_session.get(toy_url,\n",
        "                                   params={'id': toy_data_url_id},\n",
        "                                   stream=True)\n",
        "        save_response_content(response, toy_data_path)\n",
        "        print(\"Download completed!\")\n",
        "\n",
        "        print(\"Extracting dataset...\")\n",
        "        with zipfile.ZipFile(toy_data_path) as loaded_zip:\n",
        "            loaded_zip.extractall(data_path)\n",
        "        print(\"Extraction completed!\")\n",
        "\n",
        "download_data('dataset')"
      ]
    },
    {
      "cell_type": "markdown",
      "metadata": {
        "id": "KA9nfgHICU4u"
      },
      "source": [
        "## Dataset pre-processing"
      ]
    },
    {
      "cell_type": "markdown",
      "metadata": {
        "id": "2Gr4RKHVCU4v"
      },
      "source": [
        "### Dataset loading and inspection"
      ]
    },
    {
      "cell_type": "code",
      "execution_count": 5,
      "metadata": {
        "id": "k5n5uFlOCU4w",
        "colab": {
          "base_uri": "https://localhost:8080/",
          "height": 52
        },
        "outputId": "e6eadac6-2040-4269-9788-77b71569a56e"
      },
      "outputs": [
        {
          "output_type": "execute_result",
          "data": {
            "application/vnd.google.colaboratory.intrinsic+json": {
              "type": "string"
            },
            "text/plain": [
              "\"10\\tThe island 's geography comprises relatively low-lying mountains surrounding a central plain , with several navigable rivers extending inland .\\tisland\\tisland\\tgeography\\tgeography\\tseveral navigable rivers\\tRivers of Ireland\""
            ]
          },
          "metadata": {},
          "execution_count": 5
        }
      ],
      "source": [
        "TRAIN_DF = pd.read_csv(f\"dataset/train_pairs.csv\")\n",
        "TEST_DF  = pd.read_csv(f\"dataset/test_pairs.csv\")\n",
        "VALID_DF = pd.read_csv(f\"dataset/val_pairs.csv\")\n",
        "\n",
        "TRAIN_DF[\"Evidence\"][4]"
      ]
    },
    {
      "cell_type": "code",
      "execution_count": 6,
      "metadata": {
        "id": "erpnIhMxCU4y",
        "colab": {
          "base_uri": "https://localhost:8080/"
        },
        "outputId": "af3d7615-e25b-41ef-bec6-34ce17df2698"
      },
      "outputs": [
        {
          "output_type": "stream",
          "name": "stdout",
          "text": [
            "stopwords download\n",
            "[nltk_data] Downloading package stopwords to /root/nltk_data...\n",
            "[nltk_data]   Unzipping corpora/stopwords.zip.\n"
          ]
        }
      ],
      "source": [
        "try:\n",
        "    STOPWORDS = set(stopwords.words('english'))\n",
        "except LookupError:\n",
        "    print('stopwords download')\n",
        "    nltk.download('stopwords')\n",
        "    STOPWORDS = set(stopwords.words('english'))\n",
        "\n",
        "\n",
        "def preprocess_text(text):\n",
        "    '''Applies a list of pre-processing functions in sequence (reduce).'''\n",
        "    \n",
        "    def remove_stopwords(sentence):\n",
        "        return ' '.join([word for word in sentence.split() if word not in (STOPWORDS)])\n",
        "\n",
        "    def lower(text) :\n",
        "        return text.lower()\n",
        "\n",
        "    def convert_round_brackets(text) :\n",
        "        # convert -LRB- -RRB- to ( or )\n",
        "        pattern = r'-LRB-'\n",
        "        text = re.sub(pattern, '(', text)\n",
        "        pattern = r'-RRB-'\n",
        "        return re.sub(pattern, ')', text)\n",
        "\n",
        "    def fix_double_dashes(text) :\n",
        "        # fix: double dashes (--)\n",
        "        pattern = r'\\-\\-'\n",
        "        return re.sub(pattern, '-', text)\n",
        "\n",
        "    def remove_leading_tabs(text) :\n",
        "        # remove leading tabs\n",
        "        pattern = r'[0-9]+?\\t'\n",
        "        return re.sub(pattern, '', text)\n",
        "\n",
        "    def remove_pronunciations(text) :\n",
        "        # remove pronunciations\n",
        "        pattern = r'-LSB-.*?-RSB-(\\s;)*?'\n",
        "        return re.sub(pattern, '', text)\n",
        "\n",
        "    def remove_trailing_tags(text):\n",
        "        pattern=r'.\\t.*?$'\n",
        "        return re.sub(pattern, '', text)\n",
        "    \n",
        "    def trailing_tags(text):\n",
        "        return re.sub('\\t', ' ', text)\n",
        "\n",
        "    def split_periods(text) :\n",
        "        pattern = r'(\\s.+?)\\.'\n",
        "        return re.sub(pattern, r'\\1 .', text)\n",
        "\n",
        "    def fix_days(text) :\n",
        "        # fix: 31st -> 31 st\n",
        "        pattern = r'([0-9]{1,2})(st|nd|rd|th)'\n",
        "        return re.sub(pattern, r'\\1', text)\n",
        "\n",
        "    def separate_years(text) :\n",
        "        # separate years from other words\n",
        "        pattern = r'(\\s.+?)([0-9]{4})'\n",
        "        return re.sub(pattern, r'\\1 \\2', text) \n",
        "\n",
        "    def fix_years_ranges(text) :\n",
        "        # fix years ranges\n",
        "        pattern = r'([0-9]{4})\\-([0-9]{4})'\n",
        "        text = re.sub(pattern, r'\\1 - \\2', text)\n",
        "        pattern = r'([0-9]{2})([0-9]{2})\\-([0-9]{2})'\n",
        "        text = re.sub(pattern, r'\\1\\2 - \\1\\3', text)\n",
        "        pattern = r'\\'([0-9]{2})-\\'([0-9]{2})'\n",
        "        return re.sub(pattern, r'19\\1 - 19\\2', text)\n",
        "\n",
        "    def fix_number_ranges(text) :\n",
        "        # fix: numbers ranges\n",
        "        pattern = r'([0-9]+?[,\\.][0-9]+?)+?-([0-9]+?[,\\.][0-9]+?)+'\n",
        "        return re.sub(pattern, r'\\1 - \\2', text)\n",
        "\n",
        "    def fix_double_tick(text) :\n",
        "        # fix: double tick\n",
        "        pattern = r'\\`\\`'\n",
        "        return re.sub(pattern, '\"', text)\n",
        "\n",
        "    def fix_date_merged(text) :\n",
        "        # fix: year/day merged with other word\n",
        "        pattern = r'([0-9]{1,4})([a-zA-Z]+?)'\n",
        "        return re.sub(pattern, r'\\1 \\2', text)\n",
        "\n",
        "    def remove_round_brackets(text) :\n",
        "        # remove between round brackets\n",
        "        pattern = r'\\([^\\(\\)]+?\\)'\n",
        "        return re.sub(pattern, ' ', text)\n",
        "\n",
        "    def remove_double_spaces(text) :\n",
        "        # remove double spaces\n",
        "        pattern = r'(\\s)\\s+?'\n",
        "        return re.sub(pattern, r'\\1', text)\n",
        "    \n",
        "    preprocessing_pipeline = [\n",
        "                          remove_leading_tabs,\n",
        "                          #remove_trailing_tags,\n",
        "                          trailing_tags,\n",
        "                          remove_stopwords,\n",
        "                          convert_round_brackets,\n",
        "                          #remove_round_brackets,\n",
        "                          remove_pronunciations,\n",
        "                          fix_double_dashes,\n",
        "                          split_periods,\n",
        "                          fix_days,\n",
        "                          separate_years,\n",
        "                          fix_years_ranges,\n",
        "                          fix_number_ranges,\n",
        "                          fix_double_tick,\n",
        "                          fix_date_merged,\n",
        "                          remove_double_spaces,\n",
        "                          lower]\n",
        "    \n",
        "    return reduce(lambda txt, f: f(txt), preprocessing_pipeline, text)"
      ]
    },
    {
      "cell_type": "code",
      "execution_count": 7,
      "metadata": {
        "id": "Bffqfeg5CU42",
        "colab": {
          "base_uri": "https://localhost:8080/"
        },
        "outputId": "0be12f83-004b-472b-adac-7aa37d038718"
      },
      "outputs": [
        {
          "output_type": "stream",
          "name": "stdout",
          "text": [
            "Sentence before the cleaning:\n",
            "2\tHemsworth has also appeared in the science fiction action film Star Trek -LRB- 2009 -RRB- , the thriller adventure A Perfect Getaway -LRB- 2009 -RRB- , the horror comedy The Cabin in the Woods -LRB- 2012 -RRB- , the dark-fantasy action film Snow White and the Huntsman -LRB- 2012 -RRB- , the war film Red Dawn -LRB- 2012 -RRB- , and the biographical sports drama film Rush -LRB- 2013 -RRB- .\tStar Trek\tStar Trek (film)\tA Perfect Getaway\tA Perfect Getaway\tThe Cabin in the Woods\tThe Cabin in the Woods\tSnow White and the Huntsman\tSnow White and the Huntsman\tRed Dawn\tRed Dawn (2012 film)\tRush\tRush (2013 film)\n",
            "\n",
            "launched 2 processes\n",
            "Sentence after the cleaning:\n",
            "hemsworth also appeared science fiction action film star trek ( 2009 ) , thriller adventure a perfect getaway ( 2009 ) , horror comedy the cabin woods ( 2012 ) , dark-fantasy action film snow white huntsman ( 2012 ) , war film red dawn ( 2012 ) , biographical sports drama film rush ( 2013 ) . star trek star trek (film) a perfect getaway a perfect getaway the cabin woods the cabin woods snow white huntsman snow white huntsman red dawn red dawn ( 2012 film) rush rush ( 2013 film)\n"
          ]
        }
      ],
      "source": [
        "print('Sentence before the cleaning:')\n",
        "print(''.join(TRAIN_DF['Evidence'][0]))\n",
        "print('')\n",
        "\n",
        "def ser_prepr(ser, fun):\n",
        "    return ser.apply(fun)\n",
        "\n",
        "def per_column_parallel_apply(df, fun, cols, maxpr=4):\n",
        "    pool = mp.Pool(processes=min(df.shape[1], maxpr))\n",
        "    wait_g = [pool.apply_async(ser_prepr, args=(df[col], fun)) for col in df.columns[cols]]\n",
        "    print(f'launched {len(wait_g)} processes')\n",
        "    wait_g = iter(wait_g)\n",
        "    return pd.DataFrame({\n",
        "        df.columns[i]: (next(wait_g).get() if i in cols else df.iloc[:,i]) for i in range(df.shape[1])\n",
        "    })\n",
        "\n",
        "TRAIN_DF = per_column_parallel_apply(TRAIN_DF, preprocess_text, [1,2])\n",
        "\n",
        "print('Sentence after the cleaning:')\n",
        "print(TRAIN_DF['Evidence'][0])\n"
      ]
    },
    {
      "cell_type": "code",
      "execution_count": 8,
      "metadata": {
        "id": "24n0ihTbCU44",
        "colab": {
          "base_uri": "https://localhost:8080/"
        },
        "outputId": "ad3ec318-b60e-44fc-bd68-bee5b878d7c0"
      },
      "outputs": [
        {
          "output_type": "stream",
          "name": "stdout",
          "text": [
            "launched 2 processes\n"
          ]
        }
      ],
      "source": [
        "VALID_DF = per_column_parallel_apply(VALID_DF, preprocess_text, [1,2])"
      ]
    },
    {
      "cell_type": "code",
      "execution_count": 9,
      "metadata": {
        "id": "l3Lx_uNJlN7u",
        "colab": {
          "base_uri": "https://localhost:8080/"
        },
        "outputId": "378e2f85-d227-4976-c6b9-ede58628e0d1"
      },
      "outputs": [
        {
          "output_type": "stream",
          "name": "stdout",
          "text": [
            "launched 2 processes\n"
          ]
        }
      ],
      "source": [
        "TEST_DF = per_column_parallel_apply(TEST_DF, preprocess_text, [1,2])"
      ]
    },
    {
      "cell_type": "markdown",
      "metadata": {
        "id": "MSdwDCRKCU45"
      },
      "source": [
        "## Fasttext embedding model"
      ]
    },
    {
      "cell_type": "code",
      "execution_count": 10,
      "metadata": {
        "id": "kxK9RV_sCU46"
      },
      "outputs": [],
      "source": [
        "def update_corpus_file(dataframe):\n",
        "    global PATH\n",
        "    f = open(PATH + \"data.txt\", \"w\")\n",
        "    for i in range(len(dataframe)):\n",
        "        f.write(dataframe['Evidence'][i] + os.linesep)\n",
        "        f.write(dataframe['Claim'][i] + os.linesep )\n",
        "    f.close()"
      ]
    },
    {
      "cell_type": "code",
      "execution_count": 22,
      "metadata": {
        "id": "b6QjBGGpCU47"
      },
      "outputs": [],
      "source": [
        "fasttext.FastText.eprint = lambda x: None\n",
        "\n",
        "try:\n",
        "    MODEL = fasttext.load_model(PATH + \"embedding_model.bin\")\n",
        "except ValueError as e:\n",
        "    print(e)\n",
        "    update_corpus_file(TRAIN_DF)\n",
        "    MODEL = fasttext.train_unsupervised(PATH +'data.txt', model='skipgram', minCount=1, dim=200)\n",
        "    MODEL.save_model(PATH + \"embedding_model.bin\")"
      ]
    },
    {
      "cell_type": "markdown",
      "metadata": {
        "id": "w9sqoTELCU48"
      },
      "source": [
        "### Building embedding matrix"
      ]
    },
    {
      "cell_type": "code",
      "execution_count": 84,
      "metadata": {
        "id": "mtlFbHskCU48",
        "colab": {
          "base_uri": "https://localhost:8080/"
        },
        "outputId": "d4cad2ee-3c39-494f-f915-f57e8e8bbe0f"
      },
      "outputs": [
        {
          "output_type": "stream",
          "name": "stdout",
          "text": [
            "Weights matrix size: (40497, 200)\n",
            "Word_to_position_dictionary size: 40496\n"
          ]
        }
      ],
      "source": [
        "EMBEDDING_DIM = 200\n",
        "WORD_TO_POSITION_DICTIONARY = {}\n",
        "\n",
        "for i,word in enumerate(MODEL.words):\n",
        "    WORD_TO_POSITION_DICTIONARY[word] = i+1\n",
        "    \n",
        "WEIGHT_MATRIX=np.array([0 for i in range(EMBEDDING_DIM)]).reshape(1,-1)    \n",
        "WEIGHT_MATRIX = np.concatenate((WEIGHT_MATRIX,np.array([MODEL.get_word_vector(i) for i in WORD_TO_POSITION_DICTIONARY])))\n",
        "\n",
        "print(f'Weights matrix size: {WEIGHT_MATRIX.shape}')\n",
        "print(f'Word_to_position_dictionary size: {len(WORD_TO_POSITION_DICTIONARY)}')"
      ]
    },
    {
      "cell_type": "code",
      "execution_count": 85,
      "metadata": {
        "id": "kSeJYLt7CU49"
      },
      "outputs": [],
      "source": [
        "WORD_TO_POSITION_DD = autoIntDict(dict(WORD_TO_POSITION_DICTIONARY))"
      ]
    },
    {
      "cell_type": "markdown",
      "metadata": {
        "id": "u31m-PEDCU5A"
      },
      "source": [
        "## Data conversion and data iterators"
      ]
    },
    {
      "cell_type": "code",
      "execution_count": 82,
      "metadata": {
        "id": "lFxZ2CvyCU5B"
      },
      "outputs": [],
      "source": [
        "def update_embed_matrix(df, new_words):\n",
        "    ''' Updates WEIGHT_MATRIX inplace by adding it the vectors predicted \n",
        "    by the FastText model (appending them to the 1st dimension.) '''\n",
        "    global WEIGHT_MATRIX, MODEL\n",
        "\n",
        "    for word in new_words:\n",
        "        new_embedding = MODEL.get_word_vector(word)\n",
        "        WEIGHT_MATRIX = np.concatenate((WEIGHT_MATRIX, new_embedding.reshape((1,len(WEIGHT_MATRIX[0])))))\n",
        "        \n",
        "    print(f'Weights matrix size: {WEIGHT_MATRIX.shape}')\n",
        "        \n",
        "\n",
        "def apply_conversion(df, word_to_pos_dd):\n",
        "    '''Encodes a dataframe by applying an incremental encoding to the 1st column (specified\n",
        "    by one_hot_dictionary) and a one-hot encoding to the 2nd: '''\n",
        "    global WEIGHT_MATRIX\n",
        "  \n",
        "    max_pad_len = df.iloc[:,2].apply(len).max()\n",
        "                \n",
        "    col1 = df['Evidence'].apply(lambda _: [word_to_pos_dd[l]  for l in word_tokenize(_) ])\n",
        "    col2 = df['Claim'].apply(lambda _: [word_to_pos_dd[l]  for l in word_tokenize(_) ])\n",
        "    dic = { 'SUPPORTS':tensor([0,1]), 'REFUTES':tensor([1,0]) }\n",
        "    col3 = df['Label'].apply(lambda x:dic[x])\n",
        "        \n",
        "    encoded_df = pd.DataFrame(zip(col1,col2,col3,df['ID']), columns=['Evidence','Claim','Label','ID'])\n",
        "        \n",
        "    update_embed_matrix(df, word_to_pos_dd.get_newly_added())\n",
        "          \n",
        "    return encoded_df"
      ]
    },
    {
      "cell_type": "markdown",
      "metadata": {
        "id": "EU7Cvqo_CU5D"
      },
      "source": [
        "### Data conversion"
      ]
    },
    {
      "cell_type": "code",
      "execution_count": 86,
      "metadata": {
        "id": "xAogcNXpCU5E",
        "colab": {
          "base_uri": "https://localhost:8080/",
          "height": 241
        },
        "outputId": "ab399621-a755-4f52-9a7f-e403ecb55648"
      },
      "outputs": [
        {
          "output_type": "stream",
          "name": "stdout",
          "text": [
            "Weights matrix size: (40718, 200)\n",
            "Weights matrix size: (42434, 200)\n"
          ]
        },
        {
          "output_type": "execute_result",
          "data": {
            "text/html": [
              "\n",
              "  <div id=\"df-62284c4f-4394-435b-8753-873110e1051e\">\n",
              "    <div class=\"colab-df-container\">\n",
              "      <div>\n",
              "<style scoped>\n",
              "    .dataframe tbody tr th:only-of-type {\n",
              "        vertical-align: middle;\n",
              "    }\n",
              "\n",
              "    .dataframe tbody tr th {\n",
              "        vertical-align: top;\n",
              "    }\n",
              "\n",
              "    .dataframe thead th {\n",
              "        text-align: right;\n",
              "    }\n",
              "</style>\n",
              "<table border=\"1\" class=\"dataframe\">\n",
              "  <thead>\n",
              "    <tr style=\"text-align: right;\">\n",
              "      <th></th>\n",
              "      <th>Evidence</th>\n",
              "      <th>Claim</th>\n",
              "      <th>Label</th>\n",
              "      <th>ID</th>\n",
              "    </tr>\n",
              "  </thead>\n",
              "  <tbody>\n",
              "    <tr>\n",
              "      <th>0</th>\n",
              "      <td>[1897, 45, 151, 60, 52, 92, 7, 108, 727, 4, 14...</td>\n",
              "      <td>[251, 1897, 151, 32, 723, 4764, 2]</td>\n",
              "      <td>[tensor(0), tensor(1)]</td>\n",
              "      <td>3</td>\n",
              "    </tr>\n",
              "    <tr>\n",
              "      <th>1</th>\n",
              "      <td>[5018, 4475, 4, 1, 33, 370, 146, 6436, 28, 431...</td>\n",
              "      <td>[5018, 4475, 200, 2]</td>\n",
              "      <td>[tensor(0), tensor(1)]</td>\n",
              "      <td>7</td>\n",
              "    </tr>\n",
              "    <tr>\n",
              "      <th>2</th>\n",
              "      <td>[5018, 4475, 4, 1, 33, 370, 146, 6436, 28, 431...</td>\n",
              "      <td>[5018, 4475, 606, 2]</td>\n",
              "      <td>[tensor(1), tensor(0)]</td>\n",
              "      <td>8</td>\n",
              "    </tr>\n",
              "    <tr>\n",
              "      <th>3</th>\n",
              "      <td>[5, 172, 17, 2881, 5784, 7064, 19254, 1795, 61...</td>\n",
              "      <td>[476, 7064, 19254, 1795, 2]</td>\n",
              "      <td>[tensor(0), tensor(1)]</td>\n",
              "      <td>9</td>\n",
              "    </tr>\n",
              "    <tr>\n",
              "      <th>4</th>\n",
              "      <td>[5, 172, 17, 2881, 5784, 7064, 19254, 1795, 61...</td>\n",
              "      <td>[476, 7064, 19254, 1795, 2]</td>\n",
              "      <td>[tensor(1), tensor(0)]</td>\n",
              "      <td>10</td>\n",
              "    </tr>\n",
              "  </tbody>\n",
              "</table>\n",
              "</div>\n",
              "      <button class=\"colab-df-convert\" onclick=\"convertToInteractive('df-62284c4f-4394-435b-8753-873110e1051e')\"\n",
              "              title=\"Convert this dataframe to an interactive table.\"\n",
              "              style=\"display:none;\">\n",
              "        \n",
              "  <svg xmlns=\"http://www.w3.org/2000/svg\" height=\"24px\"viewBox=\"0 0 24 24\"\n",
              "       width=\"24px\">\n",
              "    <path d=\"M0 0h24v24H0V0z\" fill=\"none\"/>\n",
              "    <path d=\"M18.56 5.44l.94 2.06.94-2.06 2.06-.94-2.06-.94-.94-2.06-.94 2.06-2.06.94zm-11 1L8.5 8.5l.94-2.06 2.06-.94-2.06-.94L8.5 2.5l-.94 2.06-2.06.94zm10 10l.94 2.06.94-2.06 2.06-.94-2.06-.94-.94-2.06-.94 2.06-2.06.94z\"/><path d=\"M17.41 7.96l-1.37-1.37c-.4-.4-.92-.59-1.43-.59-.52 0-1.04.2-1.43.59L10.3 9.45l-7.72 7.72c-.78.78-.78 2.05 0 2.83L4 21.41c.39.39.9.59 1.41.59.51 0 1.02-.2 1.41-.59l7.78-7.78 2.81-2.81c.8-.78.8-2.07 0-2.86zM5.41 20L4 18.59l7.72-7.72 1.47 1.35L5.41 20z\"/>\n",
              "  </svg>\n",
              "      </button>\n",
              "      \n",
              "  <style>\n",
              "    .colab-df-container {\n",
              "      display:flex;\n",
              "      flex-wrap:wrap;\n",
              "      gap: 12px;\n",
              "    }\n",
              "\n",
              "    .colab-df-convert {\n",
              "      background-color: #E8F0FE;\n",
              "      border: none;\n",
              "      border-radius: 50%;\n",
              "      cursor: pointer;\n",
              "      display: none;\n",
              "      fill: #1967D2;\n",
              "      height: 32px;\n",
              "      padding: 0 0 0 0;\n",
              "      width: 32px;\n",
              "    }\n",
              "\n",
              "    .colab-df-convert:hover {\n",
              "      background-color: #E2EBFA;\n",
              "      box-shadow: 0px 1px 2px rgba(60, 64, 67, 0.3), 0px 1px 3px 1px rgba(60, 64, 67, 0.15);\n",
              "      fill: #174EA6;\n",
              "    }\n",
              "\n",
              "    [theme=dark] .colab-df-convert {\n",
              "      background-color: #3B4455;\n",
              "      fill: #D2E3FC;\n",
              "    }\n",
              "\n",
              "    [theme=dark] .colab-df-convert:hover {\n",
              "      background-color: #434B5C;\n",
              "      box-shadow: 0px 1px 3px 1px rgba(0, 0, 0, 0.15);\n",
              "      filter: drop-shadow(0px 1px 2px rgba(0, 0, 0, 0.3));\n",
              "      fill: #FFFFFF;\n",
              "    }\n",
              "  </style>\n",
              "\n",
              "      <script>\n",
              "        const buttonEl =\n",
              "          document.querySelector('#df-62284c4f-4394-435b-8753-873110e1051e button.colab-df-convert');\n",
              "        buttonEl.style.display =\n",
              "          google.colab.kernel.accessAllowed ? 'block' : 'none';\n",
              "\n",
              "        async function convertToInteractive(key) {\n",
              "          const element = document.querySelector('#df-62284c4f-4394-435b-8753-873110e1051e');\n",
              "          const dataTable =\n",
              "            await google.colab.kernel.invokeFunction('convertToInteractive',\n",
              "                                                     [key], {});\n",
              "          if (!dataTable) return;\n",
              "\n",
              "          const docLinkHtml = 'Like what you see? Visit the ' +\n",
              "            '<a target=\"_blank\" href=https://colab.research.google.com/notebooks/data_table.ipynb>data table notebook</a>'\n",
              "            + ' to learn more about interactive tables.';\n",
              "          element.innerHTML = '';\n",
              "          dataTable['output_type'] = 'display_data';\n",
              "          await google.colab.output.renderOutput(dataTable, element);\n",
              "          const docLink = document.createElement('div');\n",
              "          docLink.innerHTML = docLinkHtml;\n",
              "          element.appendChild(docLink);\n",
              "        }\n",
              "      </script>\n",
              "    </div>\n",
              "  </div>\n",
              "  "
            ],
            "text/plain": [
              "                                            Evidence  ...  ID\n",
              "0  [1897, 45, 151, 60, 52, 92, 7, 108, 727, 4, 14...  ...   3\n",
              "1  [5018, 4475, 4, 1, 33, 370, 146, 6436, 28, 431...  ...   7\n",
              "2  [5018, 4475, 4, 1, 33, 370, 146, 6436, 28, 431...  ...   8\n",
              "3  [5, 172, 17, 2881, 5784, 7064, 19254, 1795, 61...  ...   9\n",
              "4  [5, 172, 17, 2881, 5784, 7064, 19254, 1795, 61...  ...  10\n",
              "\n",
              "[5 rows x 4 columns]"
            ]
          },
          "metadata": {},
          "execution_count": 86
        }
      ],
      "source": [
        "ENCODED_TRAIN_DF = apply_conversion(TRAIN_DF, WORD_TO_POSITION_DD) \n",
        "ENCODED_VALID_DF = apply_conversion(VALID_DF, WORD_TO_POSITION_DD)\n",
        "\n",
        "ENCODED_TRAIN_DF.head(5)\n"
      ]
    },
    {
      "cell_type": "markdown",
      "metadata": {
        "id": "Ukbd8MAXCU5F"
      },
      "source": [
        "### Data iterators"
      ]
    },
    {
      "cell_type": "code",
      "execution_count": 27,
      "metadata": {
        "id": "bg47nzomCU5F"
      },
      "outputs": [],
      "source": [
        "BATCH_SIZE = 128\n",
        "EVID_PAD_LENGTH=0\n",
        "CLAIM_PAD_LENGTH=0\n",
        "datasets = [CustomTextDataset(_) for _ in (ENCODED_TRAIN_DF, ENCODED_VALID_DF)]  \n",
        "\n",
        "train_dataset, val_dataset = datasets  \n",
        "\n",
        "def Define_padding(type=\"local\",method=np.max):\n",
        "    \"\"\"return the collate fn based on the parameter if local the function simply pad the batch to the max lenght in the batch else it uses method to calculate the padding lenght \"\"\"\n",
        "    global ENCODED_TRAIN_DF, EVID_PAD_LENGTH, CLAIM_PAD_LENGTH\n",
        "    EVID_PAD_LENGTH=method(ENCODED_TRAIN_DF['Evidence'].apply(lambda x:len(x)))\n",
        "    CLAIM_PAD_LENGTH=method(ENCODED_TRAIN_DF['Claim'].apply(lambda x:len(x)))\n",
        "\n",
        "    def padding(list_tensors,lenght,batch_first=True, padding_value=0):\n",
        "        \"\"\"returns a tensor which is the concatenation of all the tensors in the list (all padded to the same lenght) \"\"\"\n",
        "        sizes= [i.size()[-1] for i in list_tensors]\n",
        "        to_cat=[pad(list_tensors[i],(0,lenght-sizes[i]),value = padding_value) for i in range(len(sizes))]\n",
        "        return torch.stack(to_cat,dim=0)\n",
        "\n",
        "    def collate_fn(batch):\n",
        "        global DEVICE\n",
        "        labels = torch.from_numpy(np.array([i[2].numpy() for i in batch],dtype=int))\n",
        "        texts = [torch.from_numpy(np.array(i[1], dtype=int)) for i in batch]\n",
        "        evidences = [torch.from_numpy(np.array(i[0],dtype=int))  for i in batch]\n",
        "        #Applying padding\n",
        "        if(type==\"local\"):\n",
        "            texts = pad_sequence(texts, batch_first=True, padding_value=0)\n",
        "            evidences = pad_sequence(evidences, batch_first=True, padding_value=0)\n",
        "        elif(type == \"global\"):\n",
        "            texts=padding(texts,CLAIM_PAD_LENGTH)\n",
        "            evidences = padding(evidences,EVID_PAD_LENGTH)\n",
        "        return (labels.to(DEVICE), evidences.to(DEVICE), texts.to(DEVICE))\n",
        "    \n",
        "    return collate_fn \n",
        "  \n",
        "\n",
        "train_dataloader, val_dataloader = \\\n",
        "  (DataLoader(_, batch_size=BATCH_SIZE, shuffle=False, collate_fn=Define_padding()) for _ in datasets)"
      ]
    },
    {
      "cell_type": "markdown",
      "metadata": {
        "id": "2Eh5-MK_CU5H"
      },
      "source": [
        "## Functions for the training"
      ]
    },
    {
      "cell_type": "markdown",
      "metadata": {
        "id": "DT2gHQFgCU5H"
      },
      "source": [
        "### Training functions"
      ]
    },
    {
      "cell_type": "code",
      "execution_count": 12,
      "metadata": {
        "id": "TUL4fBH0CU5I"
      },
      "outputs": [],
      "source": [
        "def train(dataloader, model, optimizer, epoch=None, criterion=torch.nn.CrossEntropyLoss(), verbose=True, log_interval=300):\n",
        "    model.train()\n",
        "    total_acc, total_count = 0, 0\n",
        "    start_time = time.time()\n",
        "    losses = []\n",
        "    \n",
        "    for idx, (label, evidence, text) in enumerate(dataloader):\n",
        "        optimizer.zero_grad() \n",
        "        predicted_label = model(text, evidence)  \n",
        "        loss = criterion(predicted_label, label.argmax(1))\n",
        "        loss.backward()                                          \n",
        "        losses.append(loss.item())       \n",
        "        torch.nn.utils.clip_grad_norm_(model.parameters(), 0.1)\n",
        "        model.embedding.weight.grad[tensor(0)] = 0 \n",
        "        optimizer.step()\n",
        "        total_acc += (predicted_label.argmax(1)==label.argmax(1)).sum().item()\n",
        "        total_count += label.size()[0]                         \n",
        "        if idx % log_interval == 0 and idx > 0:\n",
        "            elapsed = time.time() - start_time\n",
        "            if verbose:\n",
        "                print(f'| epoch {(epoch if epoch else 0):3d} | {idx:5d}/{len(dataloader):5d} batches |' \n",
        "                      + f' accuracy { total_acc/total_count:8.3f}| loss {losses[-1]:.5f}')\n",
        "            total_acc, total_count = 0, 0\n",
        "            start_time = time.time()\n",
        "            \n",
        "    return losses, total_acc/total_count\n",
        "\n",
        "def evaluate(dataloader, model, criterion=torch.nn.CrossEntropyLoss(), retain=False):\n",
        "    ''' Evaluates 'model' over the dataloader.\n",
        "      Returns the history of the loss values and the tag-level accuracy.\n",
        "    '''\n",
        "    model.eval()\n",
        "    accumulated_good_pred, total_count = 0, 0\n",
        "    val_steps = 0.0, 0\n",
        "    accumulated_loss, history = [], []\n",
        "    with torch.no_grad():\n",
        "        for idx, (label,evidence, text) in enumerate(dataloader):\n",
        "            predicted_label = model(text, evidence) \n",
        "            loss = criterion(predicted_label, label.argmax(1)) \n",
        "            accumulated_good_pred += (predicted_label.argmax(1)==label.argmax(1)).sum().item()\n",
        "            total_count += label.size()[0]\n",
        "            accumulated_loss.append(loss.item())\n",
        "            if retain:\n",
        "                y_true = label.argmax(1).cpu().numpy()\n",
        "                y_pred = predicted_label.argmax(1).cpu().numpy()\n",
        "                history += zip(y_true, y_pred)\n",
        "    return accumulated_loss, accumulated_good_pred/total_count, history"
      ]
    },
    {
      "cell_type": "markdown",
      "metadata": {
        "id": "iJzrv5w1CU5J"
      },
      "source": [
        "### Training Loop"
      ]
    },
    {
      "cell_type": "code",
      "execution_count": 13,
      "metadata": {
        "id": "y2YjV6eL9N7E"
      },
      "outputs": [],
      "source": [
        "def get_f1_score(hist):\n",
        "    y_true, y_pred = zip(*hist)\n",
        "    return f1_score(y_true, y_pred, average='macro')\n",
        "\n",
        "def get_recall_score(hist):\n",
        "    y_true, y_pred = zip(*hist)\n",
        "    return recall_score(y_true, y_pred, average='macro')\n",
        "\n",
        "def get_precision(hist):\n",
        "    y_true, y_pred = zip(*hist)\n",
        "    return precision_score(y_true, y_pred, average='macro')"
      ]
    },
    {
      "cell_type": "code",
      "execution_count": 14,
      "metadata": {
        "id": "2iH5MGjTCU5K"
      },
      "outputs": [],
      "source": [
        "def train_loop(\n",
        "    create_model,\n",
        "    train_dataloader,\n",
        "    val_dataloader,\n",
        "    params = {'hidden': 256, 'LR_Adam': 0.0001},\n",
        "    criterion = torch.nn.CrossEntropyLoss(),\n",
        "    scheduler_ = torch.optim.lr_scheduler.StepLR,\n",
        "    create_optimizer = 'default',\n",
        "    scheduler_parr = {'step_size': 8, 'gamma':.1},\n",
        "    epochs = 20,\n",
        "    early_stop_patience = 4,\n",
        "    verbose = False,\n",
        "    log_interval=300,\n",
        "    return_last_checkpoint = False\n",
        "):\n",
        "    global train, evaluate,DEVICE\n",
        "    highlight = lambda _:f'{\"-\"*(len(_)+4)}\\n  {_}\\n{\"-\"*(len(_)+4)}'\n",
        "    try:\n",
        "        model = create_model(hidden=params['hidden']).to(DEVICE)\n",
        "        if create_optimizer=='default':\n",
        "            create_optimizer = lambda model_pars: torch.optim.Adam(model_pars, lr=params['LR_Adam'])\n",
        "        optimizer = create_optimizer(model.parameters())\n",
        "        scheduler = scheduler_(optimizer = optimizer, **scheduler_parr)\n",
        "        total_accu = None\n",
        "        last_loss = 100\n",
        "        trigger_times = 0\n",
        "        metrics = {'train_loss': [],\n",
        "                  'val_loss': [],\n",
        "                  'train_loss_hist': [],\n",
        "                  'train_acc': [],\n",
        "                  'val_acc': [],\n",
        "                  'f1_score': 0,\n",
        "                   'recall':0}\n",
        "\n",
        "        for epoch in range(1, epochs + 1):\n",
        "            epoch_start_time = time.time()\n",
        "            losses_train, accu_train = train(train_dataloader, model, optimizer,\n",
        "              verbose=verbose, criterion=criterion, epoch=epoch,\n",
        "              log_interval=log_interval)\n",
        "            loss_vals, accu_val, hist = evaluate(val_dataloader, model, criterion=criterion, retain=True)\n",
        "            current_val_loss = np.mean(loss_vals)\n",
        "\n",
        "            metrics['train_loss'].append(np.mean(losses_train))\n",
        "            metrics['val_loss'].append(current_val_loss)\n",
        "            metrics['train_loss_hist'].append(losses_train)\n",
        "            metrics['train_acc'].append(accu_train)\n",
        "            metrics['val_acc'].append(accu_val)\n",
        "            \n",
        "\n",
        "            if total_accu is not None and total_accu > accu_val:\n",
        "                scheduler.step()\n",
        "            else: total_accu = accu_val\n",
        "            if verbose:\n",
        "                print(highlight(f'| end of epoch {epoch:3d} | time: {time.time() - epoch_start_time:5.2f}s | '\n",
        "                f'valid accuracy {accu_val:8.3f} | valid loss:{current_val_loss:8.3f}'))\n",
        "            else:\n",
        "                print(end=f\"\\rDoing epoch: {epoch:2}\", flush=True)\n",
        "          \n",
        "            #Early stopping\n",
        "            if current_val_loss > last_loss:\n",
        "                trigger_times += 1\n",
        "                if trigger_times >= early_stop_patience:\n",
        "                    print(\"\\n === Early Stopping ===\\n\")\n",
        "                    metrics['f1_score'] = get_f1_score(hist)\n",
        "                    metrics['recall'] = get_recall_score(hist)\n",
        "                    print(\"\\rVal_accuracy: \", accu_val, ' - F1-score: ', metrics['f1_score'],' - Recall:', metrics['recall'])\n",
        "                    break\n",
        "            else:  trigger_times = 0\n",
        "            last_loss = current_val_loss\n",
        "\n",
        "        if epoch==epochs:\n",
        "            metrics['f1_score'] = get_f1_score(hist)\n",
        "            metrics['recall'] = get_recall_score(hist)\n",
        "            print(\"\\rVal_accuracy: \", accu_val, ' - F1-score: ', metrics['f1_score'],' - Recall:', metrics['recall'])\n",
        "        print()\n",
        "        \n",
        "    except Exception: raise\n",
        "    else: return model, metrics\n",
        "    finally:\n",
        "        if return_last_checkpoint:\n",
        "            cp = {\n",
        "                'model_state_dict': model.state_dict(),\n",
        "                'optimizer_state_dict': optimizer.state_dict()}\n",
        "            return model, metrics, cp"
      ]
    },
    {
      "cell_type": "markdown",
      "metadata": {
        "id": "QxCSrQaxCU5M"
      },
      "source": [
        "### Print plots function"
      ]
    },
    {
      "cell_type": "code",
      "execution_count": 15,
      "metadata": {
        "id": "l1rcrRAACU5M"
      },
      "outputs": [],
      "source": [
        "def print_plots(metrics, complete_loss=False, size=(20,7)):\n",
        "    fig, (ax1, ax2) = plt.subplots(1, 2)\n",
        "    fig.set_size_inches(*size)\n",
        "\n",
        "    ax1.plot(metrics['train_loss'], '.-')\n",
        "    ax1.plot(metrics['val_loss'], '.-')\n",
        "    ax1.grid(True)\n",
        "    if complete_loss:\n",
        "        ax1.plot(metrics['train_loss_hist'], '.')\n",
        "        ax1.set_ylim(0, np.max(metrics['train_loss_hist'])*1.1)\n",
        "    else:\n",
        "        ax1.set_ylim(0, np.max(metrics['val_loss']+metrics['train_loss'])*1.1)\n",
        "    ax1.set_title('model loss')\n",
        "    ax1.set_ylabel('loss')\n",
        "    ax1.set_xlabel('epochs')\n",
        "    ax1.set_xticks(range(len(metrics['train_loss'])))\n",
        "    leg_lab = ['train_loss', 'val_loss']\n",
        "    ax1.legend(leg_lab + ['train_complete_loss'] if complete_loss else leg_lab,\n",
        "               loc='upper right')\n",
        "    m1, m2 = np.max(metrics['train_acc']), np.max(metrics['val_acc'])\n",
        "    ax2.axhline(y=m1, color='gray', linestyle='-.')\n",
        "    ax2.axhline(y=m2, color='gray', linestyle='-.')\n",
        "    ax2.plot(metrics['train_acc'], '.-')\n",
        "    ax2.plot(metrics['val_acc'], '.-')\n",
        "    ax2.set_title('model accuracy')\n",
        "    ax2.set_ylabel('accuracy')\n",
        "    ax2.set_xlabel('epochs')\n",
        "    ax2.set_xticks(range(len(metrics['train_loss'])))\n",
        "    ticks_ = list(ax2.get_yticks())+[m1,m2]\n",
        "    ax2.set_yticks(ticks=ticks_)\n",
        "    ax2.set_yticklabels([f'{_:.2}' for _ in ticks_])\n",
        "    ax2.grid(True)\n",
        "    ax2.legend(['train_acc', 'val_acc'], loc='lower right')\n",
        "    plt.show()"
      ]
    },
    {
      "cell_type": "markdown",
      "metadata": {
        "id": "MU0xP5qgCU5N"
      },
      "source": [
        "### Tuning function"
      ]
    },
    {
      "cell_type": "code",
      "execution_count": 16,
      "metadata": {
        "id": "6ibhv00CCU5O"
      },
      "outputs": [],
      "source": [
        "def tune(\n",
        "    create_model,\n",
        "    train_dataloader,\n",
        "    val_dataloader,\n",
        "    param_dict,\n",
        "    criterion=torch.nn.CrossEntropyLoss(),\n",
        "    scheduler_ = torch.optim.lr_scheduler.StepLR,\n",
        "    scheduler_parr = {'step_size':8, 'gamma':.1},\n",
        "    epochs = 12,\n",
        "    early_stop_patience = 4,\n",
        "    verbose = False\n",
        "):\n",
        "    global train, evaluate, DEVICE\n",
        "    results = pd.DataFrame(columns=list(param_dict.keys()) + [\"val_accuracy\"] + [\"F1_score\"])\n",
        "    \n",
        "    for opt in param_dict['optimizer']:\n",
        "        for LR in param_dict['learning_rate'][opt]:\n",
        "            for hidden in param_dict['hidden_size']:\n",
        "                model = create_model(hidden=hidden).to(DEVICE)\n",
        "                optimizer = torch.optim.Adam(model.parameters(), lr=LR) if opt==\"Adam\" else torch.optim.SGD(model.parameters(), lr=LR)\n",
        "                scheduler = scheduler_(optimizer = optimizer, **scheduler_parr)\n",
        "                \n",
        "                total_accu = None\n",
        "                last_loss = 100\n",
        "                trigger_times = 0\n",
        "                print(f\"Optimizer: {opt} | LR = {LR} | Hidden_size = {hidden}\")\n",
        "                for epoch in range(1, epochs + 1):\n",
        "                    epoch_start_time = time.time()\n",
        "                    train(train_dataloader, model, optimizer, verbose=verbose, criterion=criterion)\n",
        "                    loss_vals, accu_val, hist= evaluate(val_dataloader, model, criterion=criterion, retain=True)\n",
        "                    current_val_loss = np.mean(loss_vals)\n",
        "                    if total_accu is not None and total_accu > accu_val:\n",
        "                        scheduler.step()\n",
        "                    else: total_accu = accu_val\n",
        "                    print(end=f\"\\rDoing epoch: {epoch:2}\", flush=True)\n",
        "                    if epoch==epochs:\n",
        "                        final_f1_score=get_f1_score(hist)\n",
        "                        print(f\"\\rVal_accuracy: {accu_val}, F1-score: {final_f1_score}\")\n",
        "                        results = results.append({\"optimizer\": opt, \"learning_rate\": LR, \"hidden_size\": hidden, \"val_accuracy\": accu_val,\\\n",
        "                                                }, ignore_index=True)\n",
        "                    #Early stopping\n",
        "                    if current_val_loss > last_loss:\n",
        "                        trigger_times += 1\n",
        "                        if trigger_times >= early_stop_patience:\n",
        "                            results = results.append({\"optimizer\": opt, \"learning_rate\": LR, \"hidden_size\": hidden, \"val_accuracy\": accu_val,\\\n",
        "                                                }, ignore_index=True)\n",
        "\n",
        "                            print(\" === Early Stopping === \")\n",
        "                            break\n",
        "                    else:  trigger_times = 0\n",
        "                    last_loss = current_val_loss\n",
        "            print()\n",
        "    return results"
      ]
    },
    {
      "cell_type": "markdown",
      "metadata": {
        "id": "es08nthdCU5P"
      },
      "source": [
        "## Models and Utilities"
      ]
    },
    {
      "cell_type": "markdown",
      "metadata": {
        "id": "DQO1yklwYUBG"
      },
      "source": [
        "### Utility functions"
      ]
    },
    {
      "cell_type": "code",
      "execution_count": 17,
      "metadata": {
        "id": "0wHUONlaCU5Q"
      },
      "outputs": [],
      "source": [
        "def get_fc_layer_Relu(name,\n",
        "                    features_in,\n",
        "                    features_out):\n",
        "    \"\"\"Gets a sequential container with a sandwich of Fully connected layer \n",
        "       and Softmax.\n",
        "    Args:\n",
        "        name: the name prefix to append to each layer in the container.\n",
        "        features_in: the number of the input features.\n",
        "        features_out: the number of the output features.\n",
        "\n",
        "    Returns: the created sequential.\n",
        "    \"\"\"\n",
        "    container = nn.Sequential()\n",
        "    container.add_module(f'{name}_fc', nn.Linear(in_features=features_in, out_features=features_out))    \n",
        "    container.add_module(f'{name}_Relu', nn.ReLU())\n",
        "    return container\n",
        "\n",
        "def get_fc_Dropout(name,\n",
        "                    features_in,\n",
        "                    features_out):\n",
        "    \"\"\"Gets a sequential container with a sandwich of Fully connected layers \n",
        "       with Dropout.\n",
        "    Args:\n",
        "        name: the name prefix to append to each layer in the container.\n",
        "        features_in: the number of the input features.\n",
        "        features_out: the number of the output features.\n",
        "\n",
        "    Returns: the created sequential.\n",
        "    \"\"\"\n",
        "    container = nn.Sequential()\n",
        "    container.add_module(f'{name}_fc_Relu_1', get_fc_layer_Relu(\"fc_1\", features_in, features_out))    \n",
        "    container.add_module(f'{name}_Dropout', nn.Dropout(0.5))\n",
        "    return container"
      ]
    },
    {
      "cell_type": "markdown",
      "metadata": {
        "id": "5yLW09x4YUBH"
      },
      "source": [
        "### Definition of the architectures"
      ]
    },
    {
      "cell_type": "markdown",
      "metadata": {
        "id": "Pm4XEtPKCU5R"
      },
      "source": [
        "Different way in which the sentence embedding will be done:\n",
        "+ LRNN : last layer of RNN\n",
        "+ MRNN : mean of RNN layers\n",
        "+ MLP  : multi layer Perceptron\n",
        "+ ME   : Mean of Embeddings"
      ]
    },
    {
      "cell_type": "code",
      "execution_count": 18,
      "metadata": {
        "id": "RK7-O7shCU5R"
      },
      "outputs": [],
      "source": [
        "# Difference for the merging of the embedding of evidence and claim\n",
        "class Merg_Mode(Enum):  \n",
        "    CONCAT = torch.cat\n",
        "    SUM    = torch.sum\n",
        "    MEAN   = torch.mean\n",
        "    def as_f(self, *coup):\n",
        "        return self.value(coup if self.value is torch.cat else torch.stack(coup, dim=1), dim=1)\n",
        "\n",
        "\n",
        "class Base_RCNN (nn.Module):\n",
        "    \"\"\" Class Modelling the RCNN taking the last layer of the RNN as the sentence emebedding embedding\"\"\"\n",
        "    def update_embedding(self, w_mat):\n",
        "        assert(len(w_mat.shape)>1)\n",
        "        self.embedding = nn.Embedding(*w_mat.shape)\n",
        "        self.embedding.weight = nn.Parameter(torch.from_numpy(w_mat))\n",
        "        \n",
        "    def __init__(self, n_output,\n",
        "                 merging_mode = Merg_Mode.CONCAT,\n",
        "                 hidden = 32,\n",
        "                 class_weights = None,\n",
        "                 cs=False,\n",
        "                 **_):\n",
        "        super(Base_RCNN, self).__init__()\n",
        "        self.merging = merging_mode\n",
        "        self.hidden_size = hidden\n",
        "        self.update_embedding(WEIGHT_MATRIX) \n",
        "        self.sentence_embed_arch = None\n",
        "        self.result = None\n",
        "        self.embedding(tensor(0))\n",
        "        self.feature_size = hidden * (2 if merging_mode is Merg_Mode.CONCAT else 1)\n",
        "        self.fc = get_fc_Dropout(\"fc_dropout\", self.feature_size, self.feature_size)\n",
        "        self.cs= nn.CosineSimilarity() if cs else cs\n",
        "        self.final_fc = nn.Linear(cs + self.feature_size*2, n_output)\n",
        "        \n",
        "    @contextlib.contextmanager\n",
        "    def forward(self, x_, y_):\n",
        "        x = self.embedding(x_)\n",
        "        y = self.embedding(y_)\n",
        "        yield x, y"
      ]
    },
    {
      "cell_type": "code",
      "execution_count": 34,
      "metadata": {
        "id": "ePPGd53GCU5T"
      },
      "outputs": [],
      "source": [
        "class LRNN(Base_RCNN):\n",
        "    def __init__(self, n_output, **dp):\n",
        "        super(LRNN, self).__init__(n_output, **dp)\n",
        "        self.sentence_embed_arch = nn.GRU(\n",
        "            batch_first = True,\n",
        "            input_size = WEIGHT_MATRIX.shape[1],\n",
        "            hidden_size = self.hidden_size,\n",
        "            bidirectional = True\n",
        "        )\n",
        "\n",
        "    def forward(self, x_, y_):\n",
        "        with super(LRNN, self).forward(x_, y_) as (x,y):\n",
        "            _, y = self.sentence_embed_arch(y.to(torch.float32))\n",
        "            _, x = self.sentence_embed_arch(x.to(torch.float32))\n",
        "            x = x[1,:,:].squeeze()\n",
        "            y = y[1,:,:].squeeze()\n",
        "            merged = self.merging.as_f(x,y).to(torch.float32)\n",
        "            output = self.fc(merged)\n",
        "            to_cat=[output,merged] +([] if not self.cs else [self.cs(x,y).unsqueeze(dim=1)])\n",
        "            \n",
        "            self.result = self.final_fc(torch.cat(to_cat,dim=-1))\n",
        "        return self.result\n",
        "\n",
        "\n",
        "class MRNN(Base_RCNN):\n",
        "    def __init__(self, n_output, **dp):\n",
        "        super(MRNN, self).__init__(n_output, **dp)\n",
        "        self.sentence_embed_arch = nn.GRU(\n",
        "            batch_first = True,\n",
        "            input_size = WEIGHT_MATRIX.shape[1],\n",
        "            hidden_size = self.hidden_size,\n",
        "            bidirectional = True\n",
        "        )\n",
        "    def forward(self, x_, y_):\n",
        "        with super(MRNN, self).forward(x_, y_) as (x,y):\n",
        "            y , _ = self.sentence_embed_arch(y.to(torch.float32))\n",
        "            x , _ = self.sentence_embed_arch(x.to(torch.float32))\n",
        "            x = torch.mean(x[:,:,self.hidden_size:], dim=1)\n",
        "            y = torch.mean(y[:,:,self.hidden_size:], dim=1)\n",
        "            merged = self.merging.as_f(x,y)\n",
        "            output = self.fc(merged)\n",
        "            to_cat=[output,merged] +([] if not self.cs else [self.cs(x,y).unsqueeze(dim=1)])\n",
        "            self.result = self.final_fc(torch.cat(to_cat,dim=-1))\n",
        "        return self.result\n",
        "\n",
        "\n",
        "class MLP(Base_RCNN):\n",
        "    def __init__(self, n_output, **dp):\n",
        "        global EVID_PAD_LENGTH, CLAIM_PAD_LENGTH\n",
        "        super(MLP, self).__init__(n_output, **dp)\n",
        "        #Encoding\n",
        "        self.evid_embed_arch = get_fc_layer_Relu('MLP_Evidence_encoder', \n",
        "                                                 WEIGHT_MATRIX.shape[1]*EVID_PAD_LENGTH, \n",
        "                                                 self.hidden_size) \n",
        "        self.claim_embed_arch = get_fc_layer_Relu('MLP_Claim_encoder', \n",
        "                                                  WEIGHT_MATRIX.shape[1]*CLAIM_PAD_LENGTH, \n",
        "                                                  self.hidden_size) \n",
        "    def forward(self, x_, y_):\n",
        "        with super(MLP, self).forward(x_, y_) as (x,y):\n",
        "            x = self.claim_embed_arch(x.reshape((x.size(0),-1)).to(torch.float32))\n",
        "            y = self.evid_embed_arch (y.reshape((y.size(0),-1)).to(torch.float32))\n",
        "            merged = self.merging.as_f(x,y).to(torch.float32)\n",
        "            output = self.fc(merged)\n",
        "            to_cat=[output,merged] +([] if not self.cs else [self.cs(x,y).unsqueeze(dim=1)])\n",
        "            self.result = self.final_fc(torch.cat(to_cat,dim=-1))\n",
        "        return self.result\n",
        "\n",
        "\n",
        "class ME(Base_RCNN):\n",
        "    def __init__(self, n_output, **dp):\n",
        "        \n",
        "        super(ME, self).__init__(n_output, **dp)\n",
        "        self.cs= nn.CosineSimilarity() if dp['cs'] else dp['cs']\n",
        "        self.feature_size = (WEIGHT_MATRIX.shape[1])*(1+(self.merging is Merg_Mode.CONCAT))\n",
        "        self.fc = get_fc_Dropout(\"fc_dropout\", self.feature_size, self.feature_size)\n",
        "        self.final_fc=nn.Linear( dp['cs'] + self.feature_size*2, n_output)\n",
        "    def forward(self, x_, y_):\n",
        "        with super(ME, self).forward(x_, y_) as (x,y):\n",
        "            x = torch.mean(x.to(torch.float32), dim=1)\n",
        "            y = torch.mean(y.to(torch.float32), dim=1)\n",
        "            merged = self.merging.as_f(x,y).to(torch.float32)\n",
        "            output = self.fc(merged)\n",
        "            to_cat=[output,merged] +([] if not self.cs else [self.cs(x,y).unsqueeze(dim=1)])\n",
        "            self.result = self.final_fc(torch.cat(to_cat,dim=-1))\n",
        "        return self.result"
      ]
    },
    {
      "cell_type": "markdown",
      "metadata": {
        "id": "OGtJno4tlN73"
      },
      "source": [
        "## Dealing with the imbalance of the dataset"
      ]
    },
    {
      "cell_type": "markdown",
      "metadata": {
        "id": "uPkbKxFflN73"
      },
      "source": [
        "We tried two different approaches for dealing with the imbalance of the dataset.\n",
        "* Applying class weights to the loss function\n",
        "* Applying a sampling of the dataset and feeding the network in balanced way \n",
        "\n",
        "With these two approaches we got comparable results so we decided to keep the use of weights."
      ]
    },
    {
      "cell_type": "markdown",
      "metadata": {
        "id": "Nea_O3g1CU5U"
      },
      "source": [
        "### Computation of the class weights"
      ]
    },
    {
      "cell_type": "code",
      "execution_count": 28,
      "metadata": {
        "id": "d2NKGpm6CU5V",
        "colab": {
          "base_uri": "https://localhost:8080/"
        },
        "outputId": "94b24b92-7725-4523-c05a-941b61ea62fd"
      },
      "outputs": [
        {
          "output_type": "execute_result",
          "data": {
            "text/plain": [
              "array([7.526197, 2.723825], dtype=float32)"
            ]
          },
          "metadata": {},
          "execution_count": 28
        }
      ],
      "source": [
        "def weigth_calc(encoded_train_df):\n",
        "    one_hot_matrix=np.array([i.numpy()for i in encoded_train_df['Label']])\n",
        "    weight_by_class=np.sum(one_hot_matrix)/np.sum(one_hot_matrix,axis=0)*2\n",
        "    return weight_by_class\n",
        "  \n",
        "WEIGHTS = weigth_calc(ENCODED_TRAIN_DF).astype(np.float32)\n",
        "WEIGHTS"
      ]
    },
    {
      "cell_type": "markdown",
      "metadata": {
        "id": "89tcbQGOlN73"
      },
      "source": [
        "### Sampling of the dataset"
      ]
    },
    {
      "cell_type": "code",
      "execution_count": null,
      "metadata": {
        "id": "nytOl3jElN74"
      },
      "outputs": [],
      "source": [
        "ctd = CustomTextDataset(ENCODED_TRAIN_DF)\n",
        "\n",
        "W_TRAIN_DATALOADER = DataLoader(\n",
        "    ctd,\n",
        "    batch_size=BATCH_SIZE,\n",
        "    collate_fn=Define_padding(),\n",
        "    sampler = torch.utils.data.sampler.WeightedRandomSampler(\n",
        "      weights=[(WEIGHTS[0] if ctd[_][2].item==0 else WEIGHTS[1]) for _ in range(len(ctd))], \n",
        "      num_samples = 952 * BATCH_SIZE,\n",
        "      replacement=True)\n",
        "    )\n",
        "\n",
        "W_VAL_DATALOADER = DataLoader(\n",
        "    CustomTextDataset(ENCODED_VALID_DF),\n",
        "    batch_size=BATCH_SIZE,\n",
        "    collate_fn=Define_padding(),\n",
        "    sampler=torch.utils.data.sampler.WeightedRandomSampler(\n",
        "      weights=[(WEIGHTS[0] if ctd[_][2].item==0 else WEIGHTS[1]) for _ in range(len(ctd))], \n",
        "      num_samples = 952 * BATCH_SIZE,\n",
        "      replacement=True)\n",
        ")"
      ]
    },
    {
      "cell_type": "markdown",
      "metadata": {
        "id": "OPKKfeI0CU5V"
      },
      "source": [
        "## Training models"
      ]
    },
    {
      "cell_type": "markdown",
      "metadata": {
        "id": "bhRuACZtehrd"
      },
      "source": [
        "### Stupid baseline"
      ]
    },
    {
      "cell_type": "code",
      "execution_count": null,
      "metadata": {
        "id": "sWkoZluyelGk",
        "colab": {
          "base_uri": "https://localhost:8080/"
        },
        "outputId": "a8e9fce0-7b99-4cf9-bcdf-daa14fa5cfdc"
      },
      "outputs": [
        {
          "output_type": "execute_result",
          "data": {
            "text/plain": [
              "('BASELINE ACCURACY: 0.734', 'BASELINE ACCURACY ON VALID.: 0.504')"
            ]
          },
          "metadata": {},
          "execution_count": 34
        }
      ],
      "source": [
        "class dummy(nn.Module):\n",
        "      def forward(self, x_, y_, *a, **aa):\n",
        "            t = tensor([0.,1.], device=DEVICE).repeat(len(x_),1)\n",
        "            return t\n",
        "\n",
        "f'BASELINE ACCURACY: {evaluate(train_dataloader, dummy())[1]:.3f}',\\\n",
        "f'BASELINE ACCURACY ON VALID.: {evaluate(val_dataloader, dummy())[1]:.3f}'"
      ]
    },
    {
      "cell_type": "markdown",
      "metadata": {
        "id": "sgpcyP47YUBS"
      },
      "source": [
        "### LRNN architecture"
      ]
    },
    {
      "cell_type": "markdown",
      "metadata": {
        "id": "gWq_d79_YUBT"
      },
      "source": [
        "#### Tuning"
      ]
    },
    {
      "cell_type": "markdown",
      "metadata": {
        "id": "l2tE0GB3lN74"
      },
      "source": [
        "We applied the fine-tuning of the hyperparameters for all the combination of the model architectures. For brevity we put in the notebook only the code an explanatory example."
      ]
    },
    {
      "cell_type": "code",
      "execution_count": null,
      "metadata": {
        "id": "D-qBxBjBYUBU"
      },
      "outputs": [],
      "source": [
        "'''results = tune(\n",
        "    lambda **pp:  LRNN(n_output=2, **pp).to(DEVICE),\n",
        "    train_dataloader,\n",
        "    val_dataloader,\n",
        "    { \"optimizer\": [\"Adam\",\"SGD\"],\n",
        "      \"learning_rate\": { \"Adam\": [0.01, 0.001, 0.0001], \"SGD\": [0.1, 0.01]},\n",
        "      \"hidden_size\": [128, 256]},\n",
        "    criterion = torch.nn.CrossEntropyLoss(weight=torch.from_numpy(WEIGHTS).to(DEVICE)),\n",
        "    epochs=15\n",
        ")\n",
        "\n",
        "best_configuration = results[results[\"F1_score\"] == max(results[\"F1_score\"])]\n",
        "best_configuration\n",
        "''';"
      ]
    },
    {
      "cell_type": "markdown",
      "metadata": {
        "id": "0MMq_5nIYUBU"
      },
      "source": [
        "Best configuration: Adam | LR = 0.0001 | Hidden = 128"
      ]
    },
    {
      "cell_type": "markdown",
      "metadata": {
        "id": "KiB-d64bYUBV"
      },
      "source": [
        "#### Trainings"
      ]
    },
    {
      "cell_type": "markdown",
      "metadata": {
        "id": "rYakRTxolN75"
      },
      "source": [
        "Training without Cosine similarity"
      ]
    },
    {
      "cell_type": "code",
      "execution_count": null,
      "metadata": {
        "id": "Yuj2aAbyYUBW",
        "colab": {
          "base_uri": "https://localhost:8080/"
        },
        "outputId": "524c662f-4d4c-4342-b6a9-15990ed757ad"
      },
      "outputs": [
        {
          "output_type": "stream",
          "name": "stdout",
          "text": [
            "| epoch   1 |   300/  952 batches | accuracy    0.733| loss 0.69358\n",
            "| epoch   1 |   600/  952 batches | accuracy    0.403| loss 0.67754\n",
            "| epoch   1 |   900/  952 batches | accuracy    0.596| loss 0.64139\n",
            "-------------------------------------------------------------------------------------\n",
            "  | end of epoch   1 | time: 62.78s | valid accuracy    0.603 | valid loss:   0.761\n",
            "-------------------------------------------------------------------------------------\n",
            "| epoch   2 |   300/  952 batches | accuracy    0.732| loss 0.67261\n",
            "| epoch   2 |   600/  952 batches | accuracy    0.599| loss 0.60224\n",
            "| epoch   2 |   900/  952 batches | accuracy    0.694| loss 0.56280\n",
            "-------------------------------------------------------------------------------------\n",
            "  | end of epoch   2 | time: 62.41s | valid accuracy    0.633 | valid loss:   0.747\n",
            "-------------------------------------------------------------------------------------\n",
            "| epoch   3 |   300/  952 batches | accuracy    0.756| loss 0.66590\n",
            "| epoch   3 |   600/  952 batches | accuracy    0.645| loss 0.56420\n",
            "| epoch   3 |   900/  952 batches | accuracy    0.726| loss 0.53840\n",
            "-------------------------------------------------------------------------------------\n",
            "  | end of epoch   3 | time: 62.05s | valid accuracy    0.647 | valid loss:   0.726\n",
            "-------------------------------------------------------------------------------------\n",
            "| epoch   4 |   300/  952 batches | accuracy    0.772| loss 0.65123\n",
            "| epoch   4 |   600/  952 batches | accuracy    0.672| loss 0.53284\n",
            "| epoch   4 |   900/  952 batches | accuracy    0.747| loss 0.50168\n",
            "-------------------------------------------------------------------------------------\n",
            "  | end of epoch   4 | time: 62.13s | valid accuracy    0.655 | valid loss:   0.717\n",
            "-------------------------------------------------------------------------------------\n",
            "| epoch   5 |   300/  952 batches | accuracy    0.784| loss 0.64445\n",
            "| epoch   5 |   600/  952 batches | accuracy    0.694| loss 0.51517\n",
            "| epoch   5 |   900/  952 batches | accuracy    0.761| loss 0.47870\n",
            "-------------------------------------------------------------------------------------\n",
            "  | end of epoch   5 | time: 61.63s | valid accuracy    0.664 | valid loss:   0.710\n",
            "-------------------------------------------------------------------------------------\n",
            "| epoch   6 |   300/  952 batches | accuracy    0.793| loss 0.61451\n",
            "| epoch   6 |   600/  952 batches | accuracy    0.711| loss 0.50354\n",
            "| epoch   6 |   900/  952 batches | accuracy    0.773| loss 0.46804\n",
            "-------------------------------------------------------------------------------------\n",
            "  | end of epoch   6 | time: 62.08s | valid accuracy    0.668 | valid loss:   0.722\n",
            "-------------------------------------------------------------------------------------\n",
            "| epoch   7 |   300/  952 batches | accuracy    0.801| loss 0.58849\n",
            "| epoch   7 |   600/  952 batches | accuracy    0.727| loss 0.48310\n",
            "| epoch   7 |   900/  952 batches | accuracy    0.784| loss 0.45763\n",
            "-------------------------------------------------------------------------------------\n",
            "  | end of epoch   7 | time: 62.19s | valid accuracy    0.670 | valid loss:   0.731\n",
            "-------------------------------------------------------------------------------------\n",
            "| epoch   8 |   300/  952 batches | accuracy    0.808| loss 0.53982\n",
            "| epoch   8 |   600/  952 batches | accuracy    0.739| loss 0.46558\n",
            "| epoch   8 |   900/  952 batches | accuracy    0.794| loss 0.43697\n",
            "-------------------------------------------------------------------------------------\n",
            "  | end of epoch   8 | time: 61.97s | valid accuracy    0.671 | valid loss:   0.785\n",
            "-------------------------------------------------------------------------------------\n",
            "| epoch   9 |   300/  952 batches | accuracy    0.813| loss 0.51275\n",
            "| epoch   9 |   600/  952 batches | accuracy    0.751| loss 0.44675\n",
            "| epoch   9 |   900/  952 batches | accuracy    0.803| loss 0.42300\n",
            "-------------------------------------------------------------------------------------\n",
            "  | end of epoch   9 | time: 62.12s | valid accuracy    0.673 | valid loss:   0.838\n",
            "-------------------------------------------------------------------------------------\n",
            "\n",
            " === Early Stopping ===\n",
            "\n",
            "Val_accuracy:  0.6727145847871598  - F1-score:  0.6630082784766647  - Recall: 0.6714069449831823\n",
            "\n"
          ]
        }
      ],
      "source": [
        "model_LRNN_Concat, metrics_LRNN_Concat = train_loop(\n",
        "           lambda **pp:  LRNN(n_output=2, merging_mode = Merg_Mode.CONCAT, cs=False, **pp).to(DEVICE),\n",
        "           train_dataloader, \n",
        "           val_dataloader, \n",
        "           epochs=20, \n",
        "           criterion = torch.nn.CrossEntropyLoss(weight=torch.from_numpy(WEIGHTS).to(DEVICE)),\n",
        "           params = {'hidden': 128, 'LR_Adam': 0.0001},\n",
        "           scheduler_parr = {'step_size': 8, 'gamma':.1},\n",
        "           early_stop_patience = 4 ,\n",
        "           verbose=True\n",
        "           )"
      ]
    },
    {
      "cell_type": "markdown",
      "metadata": {
        "id": "ZR7qq-uWlN75"
      },
      "source": [
        "Training with Cosine similarity"
      ]
    },
    {
      "cell_type": "code",
      "execution_count": 39,
      "metadata": {
        "id": "BvUnwDUXOda8",
        "colab": {
          "base_uri": "https://localhost:8080/"
        },
        "outputId": "3595f627-38a1-4deb-fad0-7254b635b463"
      },
      "outputs": [
        {
          "output_type": "stream",
          "name": "stdout",
          "text": [
            "| epoch   1 |   300/  952 batches | accuracy    0.731| loss 0.68393\n",
            "| epoch   1 |   600/  952 batches | accuracy    0.412| loss 0.67688\n",
            "| epoch   1 |   900/  952 batches | accuracy    0.602| loss 0.61704\n",
            "-------------------------------------------------------------------------------------\n",
            "  | end of epoch   1 | time: 66.24s | valid accuracy    0.607 | valid loss:   0.753\n",
            "-------------------------------------------------------------------------------------\n",
            "| epoch   2 |   300/  952 batches | accuracy    0.727| loss 0.67562\n",
            "| epoch   2 |   600/  952 batches | accuracy    0.599| loss 0.60595\n",
            "| epoch   2 |   900/  952 batches | accuracy    0.695| loss 0.55388\n",
            "-------------------------------------------------------------------------------------\n",
            "  | end of epoch   2 | time: 62.87s | valid accuracy    0.637 | valid loss:   0.741\n",
            "-------------------------------------------------------------------------------------\n",
            "| epoch   3 |   300/  952 batches | accuracy    0.756| loss 0.65563\n",
            "| epoch   3 |   600/  952 batches | accuracy    0.647| loss 0.56948\n",
            "| epoch   3 |   900/  952 batches | accuracy    0.728| loss 0.50988\n",
            "-------------------------------------------------------------------------------------\n",
            "  | end of epoch   3 | time: 62.93s | valid accuracy    0.652 | valid loss:   0.724\n",
            "-------------------------------------------------------------------------------------\n",
            "| epoch   4 |   300/  952 batches | accuracy    0.772| loss 0.63692\n",
            "| epoch   4 |   600/  952 batches | accuracy    0.674| loss 0.53877\n",
            "| epoch   4 |   900/  952 batches | accuracy    0.747| loss 0.47637\n",
            "-------------------------------------------------------------------------------------\n",
            "  | end of epoch   4 | time: 62.99s | valid accuracy    0.658 | valid loss:   0.715\n",
            "-------------------------------------------------------------------------------------\n",
            "| epoch   5 |   300/  952 batches | accuracy    0.783| loss 0.60558\n",
            "| epoch   5 |   600/  952 batches | accuracy    0.695| loss 0.51916\n",
            "| epoch   5 |   900/  952 batches | accuracy    0.763| loss 0.46650\n",
            "-------------------------------------------------------------------------------------\n",
            "  | end of epoch   5 | time: 63.08s | valid accuracy    0.665 | valid loss:   0.727\n",
            "-------------------------------------------------------------------------------------\n",
            "| epoch   6 |   300/  952 batches | accuracy    0.793| loss 0.59538\n",
            "| epoch   6 |   600/  952 batches | accuracy    0.714| loss 0.50295\n",
            "| epoch   6 |   900/  952 batches | accuracy    0.775| loss 0.45908\n",
            "-------------------------------------------------------------------------------------\n",
            "  | end of epoch   6 | time: 63.09s | valid accuracy    0.669 | valid loss:   0.742\n",
            "-------------------------------------------------------------------------------------\n",
            "| epoch   7 |   300/  952 batches | accuracy    0.800| loss 0.55394\n",
            "| epoch   7 |   600/  952 batches | accuracy    0.727| loss 0.49125\n",
            "| epoch   7 |   900/  952 batches | accuracy    0.787| loss 0.45918\n",
            "-------------------------------------------------------------------------------------\n",
            "  | end of epoch   7 | time: 63.33s | valid accuracy    0.672 | valid loss:   0.771\n",
            "-------------------------------------------------------------------------------------\n",
            "| epoch   8 |   300/  952 batches | accuracy    0.807| loss 0.53310\n",
            "| epoch   8 |   600/  952 batches | accuracy    0.739| loss 0.47435\n",
            "| epoch   8 |   900/  952 batches | accuracy    0.797| loss 0.46420\n",
            "-------------------------------------------------------------------------------------\n",
            "  | end of epoch   8 | time: 62.76s | valid accuracy    0.673 | valid loss:   0.817\n",
            "-------------------------------------------------------------------------------------\n",
            "\n",
            " === Early Stopping ===\n",
            "\n",
            "Val_accuracy:  0.6725750174459176  - F1-score:  0.6631419507289273  - Recall: 0.6712862451955797\n",
            "\n"
          ]
        }
      ],
      "source": [
        "model_LRNN_Concat_cs, metrics_LRNN_Concat_cs = train_loop(\n",
        "           lambda **pp:  LRNN(n_output=2, merging_mode = Merg_Mode.CONCAT, cs=True, **pp).to(DEVICE),\n",
        "           train_dataloader, \n",
        "           val_dataloader, \n",
        "           epochs=20, \n",
        "           criterion = torch.nn.CrossEntropyLoss(weight=torch.from_numpy(WEIGHTS).to(DEVICE)),\n",
        "           params = {'hidden': 128, 'LR_Adam': 0.0001},\n",
        "           scheduler_parr = {'step_size': 6, 'gamma':.1},\n",
        "           early_stop_patience = 4 ,\n",
        "           verbose=True\n",
        "           )"
      ]
    },
    {
      "cell_type": "code",
      "execution_count": null,
      "metadata": {
        "id": "Nu5qyp8ulN75",
        "colab": {
          "base_uri": "https://localhost:8080/"
        },
        "outputId": "306353d8-1e90-4bf1-e1b5-b1c62d6af895"
      },
      "outputs": [
        {
          "output_type": "stream",
          "name": "stdout",
          "text": [
            "Model: LRNN without cosine similarity | Validation F1-score macro: 0.6630082784766647\n",
            "Model: LRNN with cosine similarity    | Validation F1-score macro: 0.6633057679611347\n"
          ]
        }
      ],
      "source": [
        "print(f\"Model: LRNN without cosine similarity | Validation F1-score macro: {metrics_LRNN_Concat['f1_score']}\")\n",
        "print(f\"Model: LRNN with cosine similarity    | Validation F1-score macro: {metrics_LRNN_Concat_cs['f1_score']}\")"
      ]
    },
    {
      "cell_type": "markdown",
      "metadata": {
        "id": "2WbHRfD5lN76"
      },
      "source": [
        "We notice that with the cosine similarity extention we obtain slightly better results. So from here on we proceed using this extention in our models."
      ]
    },
    {
      "cell_type": "code",
      "execution_count": null,
      "metadata": {
        "id": "iwJpaR1sOp8-",
        "colab": {
          "base_uri": "https://localhost:8080/"
        },
        "outputId": "284fb983-5c30-4dc9-9f23-e7137dc711ef"
      },
      "outputs": [
        {
          "output_type": "stream",
          "name": "stdout",
          "text": [
            "| epoch   1 |   300/  952 batches | accuracy    0.720| loss 0.67527\n",
            "| epoch   1 |   600/  952 batches | accuracy    0.407| loss 0.69025\n",
            "| epoch   1 |   900/  952 batches | accuracy    0.559| loss 0.66574\n",
            "-------------------------------------------------------------------------------------\n",
            "  | end of epoch   1 | time: 64.77s | valid accuracy    0.557 | valid loss:   0.727\n",
            "-------------------------------------------------------------------------------------\n",
            "| epoch   2 |   300/  952 batches | accuracy    0.714| loss 0.67423\n",
            "| epoch   2 |   600/  952 batches | accuracy    0.523| loss 0.67143\n",
            "| epoch   2 |   900/  952 batches | accuracy    0.637| loss 0.62323\n",
            "-------------------------------------------------------------------------------------\n",
            "  | end of epoch   2 | time: 63.46s | valid accuracy    0.589 | valid loss:   0.778\n",
            "-------------------------------------------------------------------------------------\n",
            "| epoch   3 |   300/  952 batches | accuracy    0.733| loss 0.66150\n",
            "| epoch   3 |   600/  952 batches | accuracy    0.604| loss 0.60801\n",
            "| epoch   3 |   900/  952 batches | accuracy    0.700| loss 0.55217\n",
            "-------------------------------------------------------------------------------------\n",
            "  | end of epoch   3 | time: 63.47s | valid accuracy    0.614 | valid loss:   0.747\n",
            "-------------------------------------------------------------------------------------\n",
            "| epoch   4 |   300/  952 batches | accuracy    0.758| loss 0.65945\n",
            "| epoch   4 |   600/  952 batches | accuracy    0.649| loss 0.56057\n",
            "| epoch   4 |   900/  952 batches | accuracy    0.731| loss 0.52300\n",
            "-------------------------------------------------------------------------------------\n",
            "  | end of epoch   4 | time: 63.55s | valid accuracy    0.626 | valid loss:   0.757\n",
            "-------------------------------------------------------------------------------------\n",
            "| epoch   5 |   300/  952 batches | accuracy    0.771| loss 0.64517\n",
            "| epoch   5 |   600/  952 batches | accuracy    0.673| loss 0.54549\n",
            "| epoch   5 |   900/  952 batches | accuracy    0.748| loss 0.49011\n",
            "-------------------------------------------------------------------------------------\n",
            "  | end of epoch   5 | time: 63.67s | valid accuracy    0.642 | valid loss:   0.748\n",
            "-------------------------------------------------------------------------------------\n",
            "| epoch   6 |   300/  952 batches | accuracy    0.778| loss 0.62613\n",
            "| epoch   6 |   600/  952 batches | accuracy    0.695| loss 0.52046\n",
            "| epoch   6 |   900/  952 batches | accuracy    0.760| loss 0.47217\n",
            "-------------------------------------------------------------------------------------\n",
            "  | end of epoch   6 | time: 63.56s | valid accuracy    0.651 | valid loss:   0.740\n",
            "-------------------------------------------------------------------------------------\n",
            "| epoch   7 |   300/  952 batches | accuracy    0.787| loss 0.61230\n",
            "| epoch   7 |   600/  952 batches | accuracy    0.709| loss 0.50130\n",
            "| epoch   7 |   900/  952 batches | accuracy    0.770| loss 0.46020\n",
            "-------------------------------------------------------------------------------------\n",
            "  | end of epoch   7 | time: 63.47s | valid accuracy    0.657 | valid loss:   0.735\n",
            "-------------------------------------------------------------------------------------\n",
            "| epoch   8 |   300/  952 batches | accuracy    0.794| loss 0.58938\n",
            "| epoch   8 |   600/  952 batches | accuracy    0.722| loss 0.50365\n",
            "| epoch   8 |   900/  952 batches | accuracy    0.780| loss 0.44977\n",
            "-------------------------------------------------------------------------------------\n",
            "  | end of epoch   8 | time: 63.49s | valid accuracy    0.662 | valid loss:   0.744\n",
            "-------------------------------------------------------------------------------------\n",
            "| epoch   9 |   300/  952 batches | accuracy    0.798| loss 0.56765\n",
            "| epoch   9 |   600/  952 batches | accuracy    0.732| loss 0.48531\n",
            "| epoch   9 |   900/  952 batches | accuracy    0.788| loss 0.43849\n",
            "-------------------------------------------------------------------------------------\n",
            "  | end of epoch   9 | time: 63.39s | valid accuracy    0.665 | valid loss:   0.752\n",
            "-------------------------------------------------------------------------------------\n",
            "| epoch  10 |   300/  952 batches | accuracy    0.803| loss 0.55451\n",
            "| epoch  10 |   600/  952 batches | accuracy    0.742| loss 0.47607\n",
            "| epoch  10 |   900/  952 batches | accuracy    0.796| loss 0.42723\n",
            "-------------------------------------------------------------------------------------\n",
            "  | end of epoch  10 | time: 63.43s | valid accuracy    0.664 | valid loss:   0.788\n",
            "-------------------------------------------------------------------------------------\n",
            "| epoch  11 |   300/  952 batches | accuracy    0.807| loss 0.52670\n",
            "| epoch  11 |   600/  952 batches | accuracy    0.750| loss 0.46469\n",
            "| epoch  11 |   900/  952 batches | accuracy    0.803| loss 0.41275\n",
            "-------------------------------------------------------------------------------------\n",
            "  | end of epoch  11 | time: 62.96s | valid accuracy    0.665 | valid loss:   0.819\n",
            "-------------------------------------------------------------------------------------\n",
            "\n",
            " === Early Stopping ===\n",
            "\n",
            "Val_accuracy:  0.665457083042568  - F1-score:  0.6611045161892226  - Recall: 0.664597575687494\n",
            "\n"
          ]
        }
      ],
      "source": [
        "model_LRNN_Sum_cs, metrics_LRNN_Sum_cs = train_loop(\n",
        "           lambda **pp:  LRNN(n_output=2, merging_mode = Merg_Mode.SUM, cs=True, **pp).to(DEVICE),\n",
        "           train_dataloader, \n",
        "           val_dataloader, \n",
        "           epochs=20,  \n",
        "           criterion = torch.nn.CrossEntropyLoss(weight=torch.from_numpy(WEIGHTS).to(DEVICE)),\n",
        "           params = {'hidden': 128, 'LR_Adam': 0.0001},\n",
        "           scheduler_parr = {'step_size': 8, 'gamma':.1},\n",
        "           early_stop_patience = 4 ,\n",
        "           verbose=True\n",
        "           )"
      ]
    },
    {
      "cell_type": "code",
      "execution_count": null,
      "metadata": {
        "id": "4yPPO3GWlN76",
        "colab": {
          "base_uri": "https://localhost:8080/"
        },
        "outputId": "dae0dfc2-900d-475f-f5f7-4af62dab4d9e"
      },
      "outputs": [
        {
          "output_type": "stream",
          "name": "stdout",
          "text": [
            "| epoch   1 |   300/  952 batches | accuracy    0.744| loss 0.68596\n",
            "| epoch   1 |   600/  952 batches | accuracy    0.370| loss 0.68802\n",
            "| epoch   1 |   900/  952 batches | accuracy    0.545| loss 0.65744\n",
            "-------------------------------------------------------------------------------------\n",
            "  | end of epoch   1 | time: 64.08s | valid accuracy    0.558 | valid loss:   0.725\n",
            "-------------------------------------------------------------------------------------\n",
            "| epoch   2 |   300/  952 batches | accuracy    0.715| loss 0.66468\n",
            "| epoch   2 |   600/  952 batches | accuracy    0.521| loss 0.66183\n",
            "| epoch   2 |   900/  952 batches | accuracy    0.643| loss 0.58886\n",
            "-------------------------------------------------------------------------------------\n",
            "  | end of epoch   2 | time: 62.94s | valid accuracy    0.598 | valid loss:   0.736\n",
            "-------------------------------------------------------------------------------------\n",
            "| epoch   3 |   300/  952 batches | accuracy    0.739| loss 0.66066\n",
            "| epoch   3 |   600/  952 batches | accuracy    0.607| loss 0.61434\n",
            "| epoch   3 |   900/  952 batches | accuracy    0.705| loss 0.54012\n",
            "-------------------------------------------------------------------------------------\n",
            "  | end of epoch   3 | time: 62.71s | valid accuracy    0.623 | valid loss:   0.722\n",
            "-------------------------------------------------------------------------------------\n",
            "| epoch   4 |   300/  952 batches | accuracy    0.763| loss 0.66219\n",
            "| epoch   4 |   600/  952 batches | accuracy    0.652| loss 0.58728\n",
            "| epoch   4 |   900/  952 batches | accuracy    0.730| loss 0.49416\n",
            "-------------------------------------------------------------------------------------\n",
            "  | end of epoch   4 | time: 63.05s | valid accuracy    0.636 | valid loss:   0.725\n",
            "-------------------------------------------------------------------------------------\n",
            "| epoch   5 |   300/  952 batches | accuracy    0.773| loss 0.64997\n",
            "| epoch   5 |   600/  952 batches | accuracy    0.673| loss 0.56400\n",
            "| epoch   5 |   900/  952 batches | accuracy    0.745| loss 0.47851\n",
            "-------------------------------------------------------------------------------------\n",
            "  | end of epoch   5 | time: 62.75s | valid accuracy    0.651 | valid loss:   0.705\n",
            "-------------------------------------------------------------------------------------\n",
            "| epoch   6 |   300/  952 batches | accuracy    0.780| loss 0.63390\n",
            "| epoch   6 |   600/  952 batches | accuracy    0.692| loss 0.53964\n",
            "| epoch   6 |   900/  952 batches | accuracy    0.757| loss 0.46993\n",
            "-------------------------------------------------------------------------------------\n",
            "  | end of epoch   6 | time: 63.18s | valid accuracy    0.661 | valid loss:   0.683\n",
            "-------------------------------------------------------------------------------------\n",
            "| epoch   7 |   300/  952 batches | accuracy    0.786| loss 0.62100\n",
            "| epoch   7 |   600/  952 batches | accuracy    0.707| loss 0.52009\n",
            "| epoch   7 |   900/  952 batches | accuracy    0.768| loss 0.45532\n",
            "-------------------------------------------------------------------------------------\n",
            "  | end of epoch   7 | time: 63.09s | valid accuracy    0.664 | valid loss:   0.668\n",
            "-------------------------------------------------------------------------------------\n",
            "| epoch   8 |   300/  952 batches | accuracy    0.792| loss 0.59869\n",
            "| epoch   8 |   600/  952 batches | accuracy    0.721| loss 0.50510\n",
            "| epoch   8 |   900/  952 batches | accuracy    0.776| loss 0.44213\n",
            "-------------------------------------------------------------------------------------\n",
            "  | end of epoch   8 | time: 62.78s | valid accuracy    0.670 | valid loss:   0.665\n",
            "-------------------------------------------------------------------------------------\n",
            "| epoch   9 |   300/  952 batches | accuracy    0.796| loss 0.57918\n",
            "| epoch   9 |   600/  952 batches | accuracy    0.732| loss 0.48606\n",
            "| epoch   9 |   900/  952 batches | accuracy    0.785| loss 0.43635\n",
            "-------------------------------------------------------------------------------------\n",
            "  | end of epoch   9 | time: 63.24s | valid accuracy    0.671 | valid loss:   0.670\n",
            "-------------------------------------------------------------------------------------\n",
            "| epoch  10 |   300/  952 batches | accuracy    0.802| loss 0.55006\n",
            "| epoch  10 |   600/  952 batches | accuracy    0.742| loss 0.46871\n",
            "| epoch  10 |   900/  952 batches | accuracy    0.794| loss 0.42160\n",
            "-------------------------------------------------------------------------------------\n",
            "  | end of epoch  10 | time: 63.18s | valid accuracy    0.673 | valid loss:   0.694\n",
            "-------------------------------------------------------------------------------------\n",
            "| epoch  11 |   300/  952 batches | accuracy    0.807| loss 0.52662\n",
            "| epoch  11 |   600/  952 batches | accuracy    0.748| loss 0.46140\n",
            "| epoch  11 |   900/  952 batches | accuracy    0.802| loss 0.41417\n",
            "-------------------------------------------------------------------------------------\n",
            "  | end of epoch  11 | time: 63.58s | valid accuracy    0.673 | valid loss:   0.713\n",
            "-------------------------------------------------------------------------------------\n",
            "| epoch  12 |   300/  952 batches | accuracy    0.813| loss 0.51201\n",
            "| epoch  12 |   600/  952 batches | accuracy    0.754| loss 0.45320\n",
            "| epoch  12 |   900/  952 batches | accuracy    0.810| loss 0.38496\n",
            "-------------------------------------------------------------------------------------\n",
            "  | end of epoch  12 | time: 63.81s | valid accuracy    0.672 | valid loss:   0.755\n",
            "-------------------------------------------------------------------------------------\n",
            "\n",
            " === Early Stopping ===\n",
            "\n",
            "Val_accuracy:  0.6715980460572226  - F1-score:  0.6708656022967503  - Recall: 0.6712652454584854\n",
            "\n"
          ]
        }
      ],
      "source": [
        "model_LRNN_Mean_cs, metrics_LRNN_Mean_cs = train_loop(\n",
        "           lambda **pp:  LRNN(n_output=2, merging_mode = Merg_Mode.MEAN, cs=True, **pp).to(DEVICE),\n",
        "           train_dataloader, \n",
        "           val_dataloader, \n",
        "           epochs=20,  \n",
        "           criterion = torch.nn.CrossEntropyLoss(weight=torch.from_numpy(WEIGHTS).to(DEVICE)),\n",
        "           params = {'hidden': 128, 'LR_Adam': 0.0001},\n",
        "           scheduler_parr = {'step_size': 8, 'gamma':.1},\n",
        "           early_stop_patience = 4 ,\n",
        "           verbose=True\n",
        "           )"
      ]
    },
    {
      "cell_type": "markdown",
      "metadata": {
        "id": "kDXFcaUTlN76"
      },
      "source": [
        "#### Comparison"
      ]
    },
    {
      "cell_type": "code",
      "execution_count": null,
      "metadata": {
        "id": "HCzVQlqrlN76",
        "colab": {
          "base_uri": "https://localhost:8080/"
        },
        "outputId": "ff2f3502-ec65-4228-902b-ab8a764071e8"
      },
      "outputs": [
        {
          "output_type": "stream",
          "name": "stdout",
          "text": [
            "Model: LRNN Mean    | Validation F1-score macro: 0.6633057679611347\n",
            "Model: LRNN Concat  | Validation F1-score macro: 0.6611045161892226\n",
            "Model: LRNN Sum     | Validation F1-score macro: 0.6708656022967503\n"
          ]
        }
      ],
      "source": [
        "print(f\"Model: LRNN Mean    | Validation F1-score macro: {metrics_LRNN_Concat_cs['f1_score']}\")\n",
        "print(f\"Model: LRNN Concat  | Validation F1-score macro: {metrics_LRNN_Sum_cs['f1_score']}\")\n",
        "print(f\"Model: LRNN Sum     | Validation F1-score macro: {metrics_LRNN_Mean_cs['f1_score']}\")"
      ]
    },
    {
      "cell_type": "markdown",
      "metadata": {
        "id": "CbvTbnP8YUBb"
      },
      "source": [
        "### MRNN architecture"
      ]
    },
    {
      "cell_type": "markdown",
      "metadata": {
        "id": "q7nb8DtOlN76"
      },
      "source": [
        "#### Trainings"
      ]
    },
    {
      "cell_type": "code",
      "execution_count": 49,
      "metadata": {
        "id": "2Lp3ZOBCYUBd",
        "colab": {
          "base_uri": "https://localhost:8080/"
        },
        "outputId": "d7cadf8a-0beb-4b0a-fddc-3f23197bce7d"
      },
      "outputs": [
        {
          "output_type": "stream",
          "name": "stdout",
          "text": [
            "| epoch   1 |   300/  952 batches | accuracy    0.749| loss 0.68857\n",
            "| epoch   1 |   600/  952 batches | accuracy    0.365| loss 0.68217\n",
            "| epoch   1 |   900/  952 batches | accuracy    0.580| loss 0.63167\n",
            "-------------------------------------------------------------------------------------\n",
            "  | end of epoch   1 | time: 64.97s | valid accuracy    0.614 | valid loss:   0.695\n",
            "-------------------------------------------------------------------------------------\n",
            "| epoch   2 |   300/  952 batches | accuracy    0.724| loss 0.65717\n",
            "| epoch   2 |   600/  952 batches | accuracy    0.561| loss 0.62952\n",
            "| epoch   2 |   900/  952 batches | accuracy    0.678| loss 0.55228\n",
            "-------------------------------------------------------------------------------------\n",
            "  | end of epoch   2 | time: 63.55s | valid accuracy    0.641 | valid loss:   0.653\n",
            "-------------------------------------------------------------------------------------\n",
            "| epoch   3 |   300/  952 batches | accuracy    0.744| loss 0.63538\n",
            "| epoch   3 |   600/  952 batches | accuracy    0.626| loss 0.57806\n",
            "| epoch   3 |   900/  952 batches | accuracy    0.715| loss 0.50070\n",
            "-------------------------------------------------------------------------------------\n",
            "  | end of epoch   3 | time: 65.48s | valid accuracy    0.659 | valid loss:   0.632\n",
            "-------------------------------------------------------------------------------------\n",
            "| epoch   4 |   300/  952 batches | accuracy    0.761| loss 0.63196\n",
            "| epoch   4 |   600/  952 batches | accuracy    0.660| loss 0.54735\n",
            "| epoch   4 |   900/  952 batches | accuracy    0.733| loss 0.46782\n",
            "-------------------------------------------------------------------------------------\n",
            "  | end of epoch   4 | time: 66.12s | valid accuracy    0.667 | valid loss:   0.627\n",
            "-------------------------------------------------------------------------------------\n",
            "| epoch   5 |   300/  952 batches | accuracy    0.770| loss 0.61492\n",
            "| epoch   5 |   600/  952 batches | accuracy    0.683| loss 0.53208\n",
            "| epoch   5 |   900/  952 batches | accuracy    0.746| loss 0.46363\n",
            "-------------------------------------------------------------------------------------\n",
            "  | end of epoch   5 | time: 66.42s | valid accuracy    0.673 | valid loss:   0.627\n",
            "-------------------------------------------------------------------------------------\n",
            "| epoch   6 |   300/  952 batches | accuracy    0.779| loss 0.60512\n",
            "| epoch   6 |   600/  952 batches | accuracy    0.700| loss 0.50549\n",
            "| epoch   6 |   900/  952 batches | accuracy    0.760| loss 0.46282\n",
            "-------------------------------------------------------------------------------------\n",
            "  | end of epoch   6 | time: 64.89s | valid accuracy    0.677 | valid loss:   0.636\n",
            "-------------------------------------------------------------------------------------\n",
            "| epoch   7 |   300/  952 batches | accuracy    0.785| loss 0.58997\n",
            "| epoch   7 |   600/  952 batches | accuracy    0.714| loss 0.47084\n",
            "| epoch   7 |   900/  952 batches | accuracy    0.770| loss 0.47949\n",
            "-------------------------------------------------------------------------------------\n",
            "  | end of epoch   7 | time: 64.94s | valid accuracy    0.682 | valid loss:   0.653\n",
            "-------------------------------------------------------------------------------------\n",
            "| epoch   8 |   300/  952 batches | accuracy    0.790| loss 0.57297\n",
            "| epoch   8 |   600/  952 batches | accuracy    0.727| loss 0.44712\n",
            "| epoch   8 |   900/  952 batches | accuracy    0.780| loss 0.47894\n",
            "-------------------------------------------------------------------------------------\n",
            "  | end of epoch   8 | time: 63.41s | valid accuracy    0.683 | valid loss:   0.667\n",
            "-------------------------------------------------------------------------------------\n",
            "\n",
            " === Early Stopping ===\n",
            "\n",
            "Val_accuracy:  0.683182135380321  - F1-score:  0.6824458883756165  - Recall: 0.6828422953250299\n",
            "\n"
          ]
        }
      ],
      "source": [
        "model_MRNN_Concat_cs, metrics_MRNN_Concat_cs = train_loop(\n",
        "           lambda **pp:  MRNN(n_output=2, merging_mode = Merg_Mode.CONCAT, cs=True, **pp).to(DEVICE),\n",
        "           train_dataloader, \n",
        "           val_dataloader, \n",
        "           epochs=20, \n",
        "           criterion = torch.nn.CrossEntropyLoss(weight=torch.from_numpy(WEIGHTS).to(DEVICE)),\n",
        "           params = {'hidden': 128, 'LR_Adam': 0.0001},\n",
        "           scheduler_parr = {'step_size': 6, 'gamma':.1},\n",
        "           early_stop_patience = 3 ,\n",
        "           verbose=True\n",
        "           )"
      ]
    },
    {
      "cell_type": "code",
      "source": [
        "print_plots(metrics_MRNN_Concat_cs)"
      ],
      "metadata": {
        "colab": {
          "base_uri": "https://localhost:8080/",
          "height": 458
        },
        "id": "CRKtJsMHh4Tf",
        "outputId": "f7fbc998-dcb5-4151-ab69-1be2a99812d3"
      },
      "execution_count": null,
      "outputs": [
        {
          "output_type": "display_data",
          "data": {
            "image/png": "[encoded data removed]",
            "text/plain": [
              "<Figure size 1440x504 with 2 Axes>"
            ]
          },
          "metadata": {
            "needs_background": "light"
          }
        }
      ]
    },
    {
      "cell_type": "code",
      "execution_count": null,
      "metadata": {
        "id": "YcDAkpEuYUBf",
        "colab": {
          "base_uri": "https://localhost:8080/"
        },
        "outputId": "0b488daa-199a-46a1-fc34-3a30b99aefcc"
      },
      "outputs": [
        {
          "output_type": "stream",
          "name": "stdout",
          "text": [
            "| epoch   1 |   300/  952 batches | accuracy    0.738| loss 0.69132\n",
            "| epoch   1 |   600/  952 batches | accuracy    0.360| loss 0.69482\n",
            "| epoch   1 |   900/  952 batches | accuracy    0.527| loss 0.67739\n",
            "-------------------------------------------------------------------------------------\n",
            "  | end of epoch   1 | time: 63.36s | valid accuracy    0.573 | valid loss:   0.697\n",
            "-------------------------------------------------------------------------------------\n",
            "| epoch   2 |   300/  952 batches | accuracy    0.723| loss 0.66680\n",
            "| epoch   2 |   600/  952 batches | accuracy    0.476| loss 0.68016\n",
            "| epoch   2 |   900/  952 batches | accuracy    0.611| loss 0.64075\n",
            "-------------------------------------------------------------------------------------\n",
            "  | end of epoch   2 | time: 64.13s | valid accuracy    0.612 | valid loss:   0.666\n",
            "-------------------------------------------------------------------------------------\n",
            "| epoch   3 |   300/  952 batches | accuracy    0.730| loss 0.65096\n",
            "| epoch   3 |   600/  952 batches | accuracy    0.581| loss 0.64708\n",
            "| epoch   3 |   900/  952 batches | accuracy    0.680| loss 0.57726\n",
            "-------------------------------------------------------------------------------------\n",
            "  | end of epoch   3 | time: 63.45s | valid accuracy    0.633 | valid loss:   0.677\n",
            "-------------------------------------------------------------------------------------\n",
            "| epoch   4 |   300/  952 batches | accuracy    0.745| loss 0.63035\n",
            "| epoch   4 |   600/  952 batches | accuracy    0.625| loss 0.61420\n",
            "| epoch   4 |   900/  952 batches | accuracy    0.708| loss 0.54882\n",
            "-------------------------------------------------------------------------------------\n",
            "  | end of epoch   4 | time: 64.01s | valid accuracy    0.642 | valid loss:   0.708\n",
            "-------------------------------------------------------------------------------------\n",
            "| epoch   5 |   300/  952 batches | accuracy    0.760| loss 0.61149\n",
            "| epoch   5 |   600/  952 batches | accuracy    0.654| loss 0.58359\n",
            "| epoch   5 |   900/  952 batches | accuracy    0.726| loss 0.51733\n",
            "-------------------------------------------------------------------------------------\n",
            "  | end of epoch   5 | time: 63.58s | valid accuracy    0.649 | valid loss:   0.706\n",
            "-------------------------------------------------------------------------------------\n",
            "| epoch   6 |   300/  952 batches | accuracy    0.770| loss 0.59818\n",
            "| epoch   6 |   600/  952 batches | accuracy    0.674| loss 0.57192\n",
            "| epoch   6 |   900/  952 batches | accuracy    0.742| loss 0.50838\n",
            "-------------------------------------------------------------------------------------\n",
            "  | end of epoch   6 | time: 63.39s | valid accuracy    0.653 | valid loss:   0.719\n",
            "-------------------------------------------------------------------------------------\n",
            "| epoch   7 |   300/  952 batches | accuracy    0.776| loss 0.58577\n",
            "| epoch   7 |   600/  952 batches | accuracy    0.690| loss 0.54098\n",
            "| epoch   7 |   900/  952 batches | accuracy    0.752| loss 0.48301\n",
            "-------------------------------------------------------------------------------------\n",
            "  | end of epoch   7 | time: 63.75s | valid accuracy    0.658 | valid loss:   0.717\n",
            "-------------------------------------------------------------------------------------\n",
            "| epoch   8 |   300/  952 batches | accuracy    0.782| loss 0.57430\n",
            "| epoch   8 |   600/  952 batches | accuracy    0.706| loss 0.51550\n",
            "| epoch   8 |   900/  952 batches | accuracy    0.764| loss 0.46213\n",
            "-------------------------------------------------------------------------------------\n",
            "  | end of epoch   8 | time: 63.60s | valid accuracy    0.664 | valid loss:   0.729\n",
            "-------------------------------------------------------------------------------------\n",
            "| epoch   9 |   300/  952 batches | accuracy    0.787| loss 0.56047\n",
            "| epoch   9 |   600/  952 batches | accuracy    0.716| loss 0.49451\n",
            "| epoch   9 |   900/  952 batches | accuracy    0.773| loss 0.47043\n",
            "-------------------------------------------------------------------------------------\n",
            "  | end of epoch   9 | time: 63.40s | valid accuracy    0.664 | valid loss:   0.777\n",
            "-------------------------------------------------------------------------------------\n",
            "| epoch  10 |   300/  952 batches | accuracy    0.793| loss 0.53959\n",
            "| epoch  10 |   600/  952 batches | accuracy    0.726| loss 0.49062\n",
            "| epoch  10 |   900/  952 batches | accuracy    0.781| loss 0.46945\n",
            "-------------------------------------------------------------------------------------\n",
            "  | end of epoch  10 | time: 63.72s | valid accuracy    0.663 | valid loss:   0.826\n",
            "-------------------------------------------------------------------------------------\n",
            "| epoch  11 |   300/  952 batches | accuracy    0.798| loss 0.52404\n",
            "| epoch  11 |   600/  952 batches | accuracy    0.736| loss 0.47686\n",
            "| epoch  11 |   900/  952 batches | accuracy    0.791| loss 0.46892\n",
            "-------------------------------------------------------------------------------------\n",
            "  | end of epoch  11 | time: 63.39s | valid accuracy    0.667 | valid loss:   0.827\n",
            "-------------------------------------------------------------------------------------\n",
            "\n",
            " === Early Stopping ===\n",
            "\n",
            "Val_accuracy:  0.6672714584787159  - F1-score:  0.6639999672681769  - Recall: 0.666528655407483\n",
            "\n"
          ]
        }
      ],
      "source": [
        "model_MRNN_Sum_cs, metrics_MRNN_Sum_cs = train_loop(\n",
        "           lambda **pp:  MRNN(n_output=2, merging_mode = Merg_Mode.SUM, cs=True, **pp).to(DEVICE),\n",
        "           train_dataloader, \n",
        "           val_dataloader, \n",
        "           epochs=20,  \n",
        "           criterion = torch.nn.CrossEntropyLoss(weight=torch.from_numpy(WEIGHTS).to(DEVICE)),\n",
        "           params = {'hidden': 128, 'LR_Adam': 0.0001},\n",
        "           scheduler_parr = {'step_size': 8, 'gamma':.1},\n",
        "           early_stop_patience = 4 ,\n",
        "           verbose=True\n",
        "           )"
      ]
    },
    {
      "cell_type": "code",
      "execution_count": null,
      "metadata": {
        "id": "h3R5NOmmlN77",
        "colab": {
          "base_uri": "https://localhost:8080/"
        },
        "outputId": "86347529-4a43-4a2f-ac97-cb364065b4dd"
      },
      "outputs": [
        {
          "output_type": "stream",
          "name": "stdout",
          "text": [
            "| epoch   1 |   300/  952 batches | accuracy    0.775| loss 0.69219\n",
            "| epoch   1 |   600/  952 batches | accuracy    0.357| loss 0.69375\n",
            "| epoch   1 |   900/  952 batches | accuracy    0.510| loss 0.67662\n",
            "-------------------------------------------------------------------------------------\n",
            "  | end of epoch   1 | time: 63.92s | valid accuracy    0.577 | valid loss:   0.698\n",
            "-------------------------------------------------------------------------------------\n",
            "| epoch   2 |   300/  952 batches | accuracy    0.726| loss 0.67795\n",
            "| epoch   2 |   600/  952 batches | accuracy    0.485| loss 0.67357\n",
            "| epoch   2 |   900/  952 batches | accuracy    0.627| loss 0.62277\n",
            "-------------------------------------------------------------------------------------\n",
            "  | end of epoch   2 | time: 64.21s | valid accuracy    0.624 | valid loss:   0.664\n",
            "-------------------------------------------------------------------------------------\n",
            "| epoch   3 |   300/  952 batches | accuracy    0.738| loss 0.64200\n",
            "| epoch   3 |   600/  952 batches | accuracy    0.594| loss 0.62825\n",
            "| epoch   3 |   900/  952 batches | accuracy    0.689| loss 0.56306\n",
            "-------------------------------------------------------------------------------------\n",
            "  | end of epoch   3 | time: 63.92s | valid accuracy    0.641 | valid loss:   0.670\n",
            "-------------------------------------------------------------------------------------\n",
            "| epoch   4 |   300/  952 batches | accuracy    0.752| loss 0.60923\n",
            "| epoch   4 |   600/  952 batches | accuracy    0.635| loss 0.59112\n",
            "| epoch   4 |   900/  952 batches | accuracy    0.714| loss 0.52338\n",
            "-------------------------------------------------------------------------------------\n",
            "  | end of epoch   4 | time: 63.87s | valid accuracy    0.656 | valid loss:   0.659\n",
            "-------------------------------------------------------------------------------------\n",
            "| epoch   5 |   300/  952 batches | accuracy    0.760| loss 0.60174\n",
            "| epoch   5 |   600/  952 batches | accuracy    0.662| loss 0.56957\n",
            "| epoch   5 |   900/  952 batches | accuracy    0.729| loss 0.48297\n",
            "-------------------------------------------------------------------------------------\n",
            "  | end of epoch   5 | time: 64.05s | valid accuracy    0.662 | valid loss:   0.661\n",
            "-------------------------------------------------------------------------------------\n",
            "| epoch   6 |   300/  952 batches | accuracy    0.771| loss 0.59333\n",
            "| epoch   6 |   600/  952 batches | accuracy    0.684| loss 0.53756\n",
            "| epoch   6 |   900/  952 batches | accuracy    0.745| loss 0.46931\n",
            "-------------------------------------------------------------------------------------\n",
            "  | end of epoch   6 | time: 64.17s | valid accuracy    0.670 | valid loss:   0.663\n",
            "-------------------------------------------------------------------------------------\n",
            "| epoch   7 |   300/  952 batches | accuracy    0.780| loss 0.56751\n",
            "| epoch   7 |   600/  952 batches | accuracy    0.698| loss 0.53001\n",
            "| epoch   7 |   900/  952 batches | accuracy    0.755| loss 0.46798\n",
            "-------------------------------------------------------------------------------------\n",
            "  | end of epoch   7 | time: 63.85s | valid accuracy    0.673 | valid loss:   0.668\n",
            "-------------------------------------------------------------------------------------\n",
            "| epoch   8 |   300/  952 batches | accuracy    0.786| loss 0.54423\n",
            "| epoch   8 |   600/  952 batches | accuracy    0.713| loss 0.50717\n",
            "| epoch   8 |   900/  952 batches | accuracy    0.768| loss 0.46584\n",
            "-------------------------------------------------------------------------------------\n",
            "  | end of epoch   8 | time: 64.03s | valid accuracy    0.676 | valid loss:   0.675\n",
            "-------------------------------------------------------------------------------------\n",
            "\n",
            " === Early Stopping ===\n",
            "\n",
            "Val_accuracy:  0.6755059316120028  - F1-score:  0.6736797616310103  - Recall: 0.6749535239584793\n",
            "\n"
          ]
        }
      ],
      "source": [
        "model_MRNN_Mean_cs, metrics_MRNN_Mean_cs = train_loop(\n",
        "           lambda **pp:  MRNN(n_output=2, merging_mode = Merg_Mode.MEAN, cs=True, **pp).to(DEVICE),\n",
        "           train_dataloader, \n",
        "           val_dataloader, \n",
        "           epochs=20,  \n",
        "           criterion = torch.nn.CrossEntropyLoss(weight=torch.from_numpy(WEIGHTS).to(DEVICE)),\n",
        "           params = {'hidden': 128, 'LR_Adam': 0.0001},\n",
        "           scheduler_parr = {'step_size': 8, 'gamma':.1},\n",
        "           early_stop_patience = 4 ,\n",
        "           verbose=True\n",
        "           )"
      ]
    },
    {
      "cell_type": "markdown",
      "metadata": {
        "id": "d59p7aMxlN77"
      },
      "source": [
        "#### Comparison"
      ]
    },
    {
      "cell_type": "code",
      "execution_count": null,
      "metadata": {
        "id": "tTf6ygVrlN77",
        "colab": {
          "base_uri": "https://localhost:8080/"
        },
        "outputId": "5b18faac-cdfd-49b9-f967-93d2b58d3676"
      },
      "outputs": [
        {
          "output_type": "stream",
          "name": "stdout",
          "text": [
            "Model: MRNN Concat   | Validation F1-score macro: 0.6824458883756165\n",
            "Model: MRNN Sum      | Validation F1-score macro: 0.6639999672681769\n",
            "Model: MRNN Mean     | Validation F1-score macro: 0.6736797616310103\n"
          ]
        }
      ],
      "source": [
        "print(f\"Model: MRNN Concat   | Validation F1-score macro: {metrics_MRNN_Concat_cs['f1_score']}\")\n",
        "print(f\"Model: MRNN Sum      | Validation F1-score macro: {metrics_MRNN_Sum_cs['f1_score']}\")\n",
        "print(f\"Model: MRNN Mean     | Validation F1-score macro: {metrics_MRNN_Mean_cs['f1_score']}\")"
      ]
    },
    {
      "cell_type": "markdown",
      "metadata": {
        "id": "QNYe1_PLYUBc"
      },
      "source": [
        "### MLP architecture"
      ]
    },
    {
      "cell_type": "markdown",
      "metadata": {
        "id": "NxjfoQvBlN78"
      },
      "source": [
        "#### Trainings"
      ]
    },
    {
      "cell_type": "code",
      "execution_count": null,
      "metadata": {
        "id": "Rv-Sho_QlN78"
      },
      "outputs": [],
      "source": [
        "MLP_train_dataloader,MLP_val_dataloader= \\\n",
        "  (DataLoader(_, batch_size=BATCH_SIZE, shuffle=False, collate_fn=Define_padding(\"global\")) for _ in datasets)"
      ]
    },
    {
      "cell_type": "code",
      "execution_count": null,
      "metadata": {
        "id": "dtMtI-rklN78",
        "colab": {
          "base_uri": "https://localhost:8080/"
        },
        "outputId": "b107fd07-c3e8-4f23-8f0e-7f5a3fe2fc70"
      },
      "outputs": [
        {
          "output_type": "stream",
          "name": "stdout",
          "text": [
            "| epoch   1 |   300/  952 batches | accuracy    0.744| loss 0.65976\n",
            "| epoch   1 |   600/  952 batches | accuracy    0.542| loss 0.62808\n",
            "| epoch   1 |   900/  952 batches | accuracy    0.643| loss 0.62809\n",
            "-------------------------------------------------------------------------------------\n",
            "  | end of epoch   1 | time: 38.51s | valid accuracy    0.601 | valid loss:   0.713\n",
            "-------------------------------------------------------------------------------------\n",
            "| epoch   2 |   300/  952 batches | accuracy    0.744| loss 0.59906\n",
            "| epoch   2 |   600/  952 batches | accuracy    0.625| loss 0.56408\n",
            "| epoch   2 |   900/  952 batches | accuracy    0.708| loss 0.55394\n",
            "-------------------------------------------------------------------------------------\n",
            "  | end of epoch   2 | time: 38.10s | valid accuracy    0.621 | valid loss:   0.737\n",
            "-------------------------------------------------------------------------------------\n",
            "| epoch   3 |   300/  952 batches | accuracy    0.769| loss 0.57282\n",
            "| epoch   3 |   600/  952 batches | accuracy    0.679| loss 0.51914\n",
            "| epoch   3 |   900/  952 batches | accuracy    0.753| loss 0.50452\n",
            "-------------------------------------------------------------------------------------\n",
            "  | end of epoch   3 | time: 38.06s | valid accuracy    0.623 | valid loss:   0.797\n",
            "-------------------------------------------------------------------------------------\n",
            "| epoch   4 |   300/  952 batches | accuracy    0.794| loss 0.52580\n",
            "| epoch   4 |   600/  952 batches | accuracy    0.727| loss 0.48274\n",
            "| epoch   4 |   900/  952 batches | accuracy    0.790| loss 0.49705\n",
            "-------------------------------------------------------------------------------------\n",
            "  | end of epoch   4 | time: 39.93s | valid accuracy    0.635 | valid loss:   0.774\n",
            "-------------------------------------------------------------------------------------\n",
            "| epoch   5 |   300/  952 batches | accuracy    0.813| loss 0.49298\n",
            "| epoch   5 |   600/  952 batches | accuracy    0.764| loss 0.43433\n",
            "| epoch   5 |   900/  952 batches | accuracy    0.818| loss 0.47569\n",
            "-------------------------------------------------------------------------------------\n",
            "  | end of epoch   5 | time: 42.50s | valid accuracy    0.647 | valid loss:   0.726\n",
            "-------------------------------------------------------------------------------------\n",
            "| epoch   6 |   300/  952 batches | accuracy    0.834| loss 0.44821\n",
            "| epoch   6 |   600/  952 batches | accuracy    0.800| loss 0.38558\n",
            "| epoch   6 |   900/  952 batches | accuracy    0.843| loss 0.41490\n",
            "-------------------------------------------------------------------------------------\n",
            "  | end of epoch   6 | time: 42.94s | valid accuracy    0.652 | valid loss:   0.723\n",
            "-------------------------------------------------------------------------------------\n",
            "| epoch   7 |   300/  952 batches | accuracy    0.853| loss 0.40213\n",
            "| epoch   7 |   600/  952 batches | accuracy    0.833| loss 0.28717\n",
            "| epoch   7 |   900/  952 batches | accuracy    0.856| loss 0.39087\n",
            "-------------------------------------------------------------------------------------\n",
            "  | end of epoch   7 | time: 38.36s | valid accuracy    0.648 | valid loss:   0.969\n",
            "-------------------------------------------------------------------------------------\n",
            "| epoch   8 |   300/  952 batches | accuracy    0.871| loss 0.35678\n",
            "| epoch   8 |   600/  952 batches | accuracy    0.858| loss 0.28271\n",
            "| epoch   8 |   900/  952 batches | accuracy    0.873| loss 0.33857\n",
            "-------------------------------------------------------------------------------------\n",
            "  | end of epoch   8 | time: 38.63s | valid accuracy    0.638 | valid loss:   1.141\n",
            "-------------------------------------------------------------------------------------\n",
            "| epoch   9 |   300/  952 batches | accuracy    0.884| loss 0.32946\n",
            "| epoch   9 |   600/  952 batches | accuracy    0.879| loss 0.20482\n",
            "| epoch   9 |   900/  952 batches | accuracy    0.888| loss 0.31171\n",
            "-------------------------------------------------------------------------------------\n",
            "  | end of epoch   9 | time: 38.13s | valid accuracy    0.617 | valid loss:   1.695\n",
            "-------------------------------------------------------------------------------------\n",
            "| epoch  10 |   300/  952 batches | accuracy    0.898| loss 0.30656\n",
            "| epoch  10 |   600/  952 batches | accuracy    0.897| loss 0.16160\n",
            "| epoch  10 |   900/  952 batches | accuracy    0.902| loss 0.27936\n",
            "-------------------------------------------------------------------------------------\n",
            "  | end of epoch  10 | time: 39.01s | valid accuracy    0.619 | valid loss:   1.695\n",
            "-------------------------------------------------------------------------------------\n",
            "\n",
            " === Early Stopping ===\n",
            "\n",
            "Val_accuracy:  0.6192602930914166  - F1-score:  0.5798268241930213  - Recall: 0.6168622122704853\n",
            "\n"
          ]
        }
      ],
      "source": [
        "model_MLP_Concat_cs, metrics_MLP_Concat_cs = train_loop(\n",
        "           lambda **pp:  MLP(n_output=2, merging_mode = Merg_Mode.CONCAT, cs=True, **pp).to(DEVICE),\n",
        "           MLP_train_dataloader,\n",
        "           MLP_val_dataloader,\n",
        "           epochs=15,\n",
        "           criterion = torch.nn.CrossEntropyLoss(weight=torch.from_numpy(WEIGHTS).to(DEVICE)),\n",
        "           params = {'hidden': 128, 'LR_Adam': 0.0001}, \n",
        "           verbose=True,\n",
        "           scheduler_parr = {'step_size': 6, 'gamma':.1},\n",
        "           early_stop_patience = 4\n",
        "           )"
      ]
    },
    {
      "cell_type": "code",
      "execution_count": null,
      "metadata": {
        "id": "3sL9jzBulN78",
        "colab": {
          "base_uri": "https://localhost:8080/"
        },
        "outputId": "173d4cac-e00d-4cd8-8c00-f22935f71cc7"
      },
      "outputs": [
        {
          "output_type": "stream",
          "name": "stdout",
          "text": [
            "| epoch   1 |   300/  952 batches | accuracy    0.750| loss 0.66900\n",
            "| epoch   1 |   600/  952 batches | accuracy    0.508| loss 0.66043\n",
            "| epoch   1 |   900/  952 batches | accuracy    0.634| loss 0.61544\n",
            "-------------------------------------------------------------------------------------\n",
            "  | end of epoch   1 | time: 42.67s | valid accuracy    0.601 | valid loss:   0.713\n",
            "-------------------------------------------------------------------------------------\n",
            "| epoch   2 |   300/  952 batches | accuracy    0.737| loss 0.59804\n",
            "| epoch   2 |   600/  952 batches | accuracy    0.619| loss 0.58748\n",
            "| epoch   2 |   900/  952 batches | accuracy    0.701| loss 0.54943\n",
            "-------------------------------------------------------------------------------------\n",
            "  | end of epoch   2 | time: 44.91s | valid accuracy    0.618 | valid loss:   0.727\n",
            "-------------------------------------------------------------------------------------\n",
            "| epoch   3 |   300/  952 batches | accuracy    0.758| loss 0.58250\n",
            "| epoch   3 |   600/  952 batches | accuracy    0.664| loss 0.54052\n",
            "| epoch   3 |   900/  952 batches | accuracy    0.741| loss 0.53272\n",
            "-------------------------------------------------------------------------------------\n",
            "  | end of epoch   3 | time: 39.12s | valid accuracy    0.625 | valid loss:   0.779\n",
            "-------------------------------------------------------------------------------------\n",
            "| epoch   4 |   300/  952 batches | accuracy    0.781| loss 0.54357\n",
            "| epoch   4 |   600/  952 batches | accuracy    0.700| loss 0.49668\n",
            "| epoch   4 |   900/  952 batches | accuracy    0.768| loss 0.51636\n",
            "-------------------------------------------------------------------------------------\n",
            "  | end of epoch   4 | time: 39.27s | valid accuracy    0.635 | valid loss:   0.763\n",
            "-------------------------------------------------------------------------------------\n",
            "| epoch   5 |   300/  952 batches | accuracy    0.797| loss 0.49198\n",
            "| epoch   5 |   600/  952 batches | accuracy    0.731| loss 0.45426\n",
            "| epoch   5 |   900/  952 batches | accuracy    0.790| loss 0.52166\n",
            "-------------------------------------------------------------------------------------\n",
            "  | end of epoch   5 | time: 37.70s | valid accuracy    0.638 | valid loss:   0.839\n",
            "-------------------------------------------------------------------------------------\n",
            "| epoch   6 |   300/  952 batches | accuracy    0.813| loss 0.47824\n",
            "| epoch   6 |   600/  952 batches | accuracy    0.760| loss 0.42869\n",
            "| epoch   6 |   900/  952 batches | accuracy    0.807| loss 0.45782\n",
            "-------------------------------------------------------------------------------------\n",
            "  | end of epoch   6 | time: 37.60s | valid accuracy    0.652 | valid loss:   0.775\n",
            "-------------------------------------------------------------------------------------\n",
            "| epoch   7 |   300/  952 batches | accuracy    0.828| loss 0.47956\n",
            "| epoch   7 |   600/  952 batches | accuracy    0.786| loss 0.36005\n",
            "| epoch   7 |   900/  952 batches | accuracy    0.823| loss 0.38728\n",
            "-------------------------------------------------------------------------------------\n",
            "  | end of epoch   7 | time: 37.59s | valid accuracy    0.649 | valid loss:   0.857\n",
            "-------------------------------------------------------------------------------------\n",
            "| epoch   8 |   300/  952 batches | accuracy    0.839| loss 0.45695\n",
            "| epoch   8 |   600/  952 batches | accuracy    0.805| loss 0.29597\n",
            "| epoch   8 |   900/  952 batches | accuracy    0.836| loss 0.35124\n",
            "-------------------------------------------------------------------------------------\n",
            "  | end of epoch   8 | time: 37.90s | valid accuracy    0.641 | valid loss:   1.164\n",
            "-------------------------------------------------------------------------------------\n",
            "| epoch   9 |   300/  952 batches | accuracy    0.854| loss 0.40403\n",
            "| epoch   9 |   600/  952 batches | accuracy    0.824| loss 0.24024\n",
            "| epoch   9 |   900/  952 batches | accuracy    0.850| loss 0.45678\n",
            "-------------------------------------------------------------------------------------\n",
            "  | end of epoch   9 | time: 39.56s | valid accuracy    0.625 | valid loss:   1.418\n",
            "-------------------------------------------------------------------------------------\n",
            "| epoch  10 |   300/  952 batches | accuracy    0.865| loss 0.36698\n",
            "| epoch  10 |   600/  952 batches | accuracy    0.836| loss 0.22601\n",
            "| epoch  10 |   900/  952 batches | accuracy    0.861| loss 0.42406\n",
            "-------------------------------------------------------------------------------------\n",
            "  | end of epoch  10 | time: 38.03s | valid accuracy    0.644 | valid loss:   1.269\n",
            "-------------------------------------------------------------------------------------\n",
            "| epoch  11 |   300/  952 batches | accuracy    0.876| loss 0.35539\n",
            "| epoch  11 |   600/  952 batches | accuracy    0.853| loss 0.21194\n",
            "| epoch  11 |   900/  952 batches | accuracy    0.866| loss 0.32628\n",
            "-------------------------------------------------------------------------------------\n",
            "  | end of epoch  11 | time: 38.11s | valid accuracy    0.656 | valid loss:   1.036\n",
            "-------------------------------------------------------------------------------------\n",
            "| epoch  12 |   300/  952 batches | accuracy    0.885| loss 0.30662\n",
            "| epoch  12 |   600/  952 batches | accuracy    0.865| loss 0.18614\n",
            "| epoch  12 |   900/  952 batches | accuracy    0.881| loss 0.30512\n",
            "-------------------------------------------------------------------------------------\n",
            "  | end of epoch  12 | time: 38.41s | valid accuracy    0.659 | valid loss:   1.185\n",
            "-------------------------------------------------------------------------------------\n",
            "| epoch  13 |   300/  952 batches | accuracy    0.891| loss 0.29718\n",
            "| epoch  13 |   600/  952 batches | accuracy    0.877| loss 0.14375\n",
            "| epoch  13 |   900/  952 batches | accuracy    0.885| loss 0.31863\n",
            "-------------------------------------------------------------------------------------\n",
            "  | end of epoch  13 | time: 38.37s | valid accuracy    0.639 | valid loss:   1.829\n",
            "-------------------------------------------------------------------------------------\n",
            "| epoch  14 |   300/  952 batches | accuracy    0.897| loss 0.27404\n",
            "| epoch  14 |   600/  952 batches | accuracy    0.891| loss 0.15297\n",
            "| epoch  14 |   900/  952 batches | accuracy    0.893| loss 0.28656\n",
            "-------------------------------------------------------------------------------------\n",
            "  | end of epoch  14 | time: 38.67s | valid accuracy    0.650 | valid loss:   1.782\n",
            "-------------------------------------------------------------------------------------\n",
            "| epoch  15 |   300/  952 batches | accuracy    0.859| loss 0.33571\n",
            "| epoch  15 |   600/  952 batches | accuracy    0.853| loss 0.18606\n",
            "| epoch  15 |   900/  952 batches | accuracy    0.889| loss 0.29084\n",
            "-------------------------------------------------------------------------------------\n",
            "  | end of epoch  15 | time: 38.38s | valid accuracy    0.654 | valid loss:   1.500\n",
            "-------------------------------------------------------------------------------------\n",
            "Val_accuracy:  0.6540125610607118  - F1-score:  0.644198022380305  - Recall: 0.6527326073476172\n",
            "\n"
          ]
        }
      ],
      "source": [
        "model_MLP_Mean_cs, metrics_MLP_Mean_cs = train_loop(\n",
        "           lambda **pp:  MLP(n_output=2, merging_mode = Merg_Mode.MEAN, cs=True, **pp).to(DEVICE),\n",
        "           MLP_train_dataloader,\n",
        "           MLP_val_dataloader,\n",
        "           epochs=15,\n",
        "           criterion = torch.nn.CrossEntropyLoss(weight=torch.from_numpy(WEIGHTS).to(DEVICE)),\n",
        "           params = {'hidden': 128, 'LR_Adam': 0.0001}, \n",
        "           verbose=True,\n",
        "           scheduler_parr = {'step_size': 6, 'gamma':.1},\n",
        "           early_stop_patience = 4\n",
        "           )"
      ]
    },
    {
      "cell_type": "code",
      "execution_count": null,
      "metadata": {
        "id": "1ugoeHzUlN78",
        "colab": {
          "base_uri": "https://localhost:8080/"
        },
        "outputId": "293709c9-19cb-44d2-98ef-730e656616b0"
      },
      "outputs": [
        {
          "output_type": "stream",
          "name": "stdout",
          "text": [
            "| epoch   1 |   300/  952 batches | accuracy    0.740| loss 0.66790\n",
            "| epoch   1 |   600/  952 batches | accuracy    0.534| loss 0.64691\n",
            "| epoch   1 |   900/  952 batches | accuracy    0.639| loss 0.61560\n",
            "-------------------------------------------------------------------------------------\n",
            "  | end of epoch   1 | time: 38.26s | valid accuracy    0.603 | valid loss:   0.718\n",
            "-------------------------------------------------------------------------------------\n",
            "| epoch   2 |   300/  952 batches | accuracy    0.740| loss 0.60793\n",
            "| epoch   2 |   600/  952 batches | accuracy    0.621| loss 0.57606\n",
            "| epoch   2 |   900/  952 batches | accuracy    0.702| loss 0.57943\n",
            "-------------------------------------------------------------------------------------\n",
            "  | end of epoch   2 | time: 39.78s | valid accuracy    0.624 | valid loss:   0.720\n",
            "-------------------------------------------------------------------------------------\n",
            "| epoch   3 |   300/  952 batches | accuracy    0.764| loss 0.57085\n",
            "| epoch   3 |   600/  952 batches | accuracy    0.666| loss 0.52536\n",
            "| epoch   3 |   900/  952 batches | accuracy    0.742| loss 0.52572\n",
            "-------------------------------------------------------------------------------------\n",
            "  | end of epoch   3 | time: 39.52s | valid accuracy    0.628 | valid loss:   0.789\n",
            "-------------------------------------------------------------------------------------\n",
            "| epoch   4 |   300/  952 batches | accuracy    0.785| loss 0.54424\n",
            "| epoch   4 |   600/  952 batches | accuracy    0.707| loss 0.49102\n",
            "| epoch   4 |   900/  952 batches | accuracy    0.778| loss 0.49634\n",
            "-------------------------------------------------------------------------------------\n",
            "  | end of epoch   4 | time: 38.27s | valid accuracy    0.634 | valid loss:   0.830\n",
            "-------------------------------------------------------------------------------------\n",
            "| epoch   5 |   300/  952 batches | accuracy    0.804| loss 0.50860\n",
            "| epoch   5 |   600/  952 batches | accuracy    0.744| loss 0.44455\n",
            "| epoch   5 |   900/  952 batches | accuracy    0.800| loss 0.51669\n",
            "-------------------------------------------------------------------------------------\n",
            "  | end of epoch   5 | time: 38.24s | valid accuracy    0.638 | valid loss:   0.777\n",
            "-------------------------------------------------------------------------------------\n",
            "| epoch   6 |   300/  952 batches | accuracy    0.822| loss 0.46505\n",
            "| epoch   6 |   600/  952 batches | accuracy    0.776| loss 0.40737\n",
            "| epoch   6 |   900/  952 batches | accuracy    0.825| loss 0.46360\n",
            "-------------------------------------------------------------------------------------\n",
            "  | end of epoch   6 | time: 38.21s | valid accuracy    0.650 | valid loss:   0.686\n",
            "-------------------------------------------------------------------------------------\n",
            "| epoch   7 |   300/  952 batches | accuracy    0.835| loss 0.45310\n",
            "| epoch   7 |   600/  952 batches | accuracy    0.807| loss 0.36104\n",
            "| epoch   7 |   900/  952 batches | accuracy    0.840| loss 0.38585\n",
            "-------------------------------------------------------------------------------------\n",
            "  | end of epoch   7 | time: 38.22s | valid accuracy    0.647 | valid loss:   0.866\n",
            "-------------------------------------------------------------------------------------\n",
            "| epoch   8 |   300/  952 batches | accuracy    0.850| loss 0.44244\n",
            "| epoch   8 |   600/  952 batches | accuracy    0.830| loss 0.30531\n",
            "| epoch   8 |   900/  952 batches | accuracy    0.854| loss 0.36413\n",
            "-------------------------------------------------------------------------------------\n",
            "  | end of epoch   8 | time: 38.15s | valid accuracy    0.635 | valid loss:   1.248\n",
            "-------------------------------------------------------------------------------------\n",
            "| epoch   9 |   300/  952 batches | accuracy    0.866| loss 0.41677\n",
            "| epoch   9 |   600/  952 batches | accuracy    0.853| loss 0.23595\n",
            "| epoch   9 |   900/  952 batches | accuracy    0.864| loss 0.32330\n",
            "-------------------------------------------------------------------------------------\n",
            "  | end of epoch   9 | time: 38.22s | valid accuracy    0.628 | valid loss:   1.586\n",
            "-------------------------------------------------------------------------------------\n",
            "| epoch  10 |   300/  952 batches | accuracy    0.881| loss 0.39133\n",
            "| epoch  10 |   600/  952 batches | accuracy    0.872| loss 0.18190\n",
            "| epoch  10 |   900/  952 batches | accuracy    0.876| loss 0.32852\n",
            "-------------------------------------------------------------------------------------\n",
            "  | end of epoch  10 | time: 38.07s | valid accuracy    0.629 | valid loss:   1.640\n",
            "-------------------------------------------------------------------------------------\n",
            "\n",
            " === Early Stopping ===\n",
            "\n",
            "Val_accuracy:  0.6293091416608514  - F1-score:  0.5943643661071425  - Recall: 0.6270138514110031\n",
            "\n"
          ]
        }
      ],
      "source": [
        "model_MLP_Sum_cs, metrics_MLP_Sum_cs = train_loop(\n",
        "           lambda **pp:  MLP(n_output=2, merging_mode = Merg_Mode.SUM, cs=True, **pp).to(DEVICE),\n",
        "           MLP_train_dataloader,\n",
        "           MLP_val_dataloader,\n",
        "           epochs=15,\n",
        "           criterion = torch.nn.CrossEntropyLoss(weight=torch.from_numpy(WEIGHTS).to(DEVICE)),\n",
        "           params = {'hidden': 128, 'LR_Adam': 0.0001}, \n",
        "           verbose=True,\n",
        "           scheduler_parr = {'step_size': 6, 'gamma':.1},\n",
        "           early_stop_patience = 4\n",
        "           )"
      ]
    },
    {
      "cell_type": "markdown",
      "metadata": {
        "id": "LnEzgGzxlN78"
      },
      "source": [
        "#### Comparison"
      ]
    },
    {
      "cell_type": "code",
      "execution_count": null,
      "metadata": {
        "id": "XNB8L7iBlN79",
        "colab": {
          "base_uri": "https://localhost:8080/"
        },
        "outputId": "2327c23f-8840-4d32-a288-422e6fc93622"
      },
      "outputs": [
        {
          "output_type": "stream",
          "name": "stdout",
          "text": [
            "Model: MLP Concat  | Validation F1-score macro: 0.5798268241930213\n",
            "Model: MLP Sum     | Validation F1-score macro: 0.5943643661071425\n",
            "Model: MLP Mean    | Validation F1-score macro: 0.644198022380305\n"
          ]
        }
      ],
      "source": [
        "print(f\"Model: MLP Concat  | Validation F1-score macro: {metrics_MLP_Concat_cs['f1_score']}\")\n",
        "print(f\"Model: MLP Sum     | Validation F1-score macro: {metrics_MLP_Sum_cs['f1_score']}\")\n",
        "print(f\"Model: MLP Mean    | Validation F1-score macro: {metrics_MLP_Mean_cs['f1_score']}\")"
      ]
    },
    {
      "cell_type": "markdown",
      "metadata": {
        "id": "DU9aOLZFYUBg"
      },
      "source": [
        "### ME architecture"
      ]
    },
    {
      "cell_type": "markdown",
      "metadata": {
        "id": "RNK1Sek_lN79"
      },
      "source": [
        "#### Trainings"
      ]
    },
    {
      "cell_type": "code",
      "execution_count": 35,
      "metadata": {
        "id": "Iw0BbWAMlN79",
        "colab": {
          "base_uri": "https://localhost:8080/"
        },
        "outputId": "8c04ecab-d9cc-4db7-9c5c-a39acc476066"
      },
      "outputs": [
        {
          "output_type": "stream",
          "name": "stdout",
          "text": [
            "| epoch   1 |   300/  952 batches | accuracy    0.770| loss 0.68642\n",
            "| epoch   1 |   600/  952 batches | accuracy    0.366| loss 0.69342\n",
            "| epoch   1 |   900/  952 batches | accuracy    0.542| loss 0.66292\n",
            "-------------------------------------------------------------------------------------\n",
            "  | end of epoch   1 | time: 23.98s | valid accuracy    0.577 | valid loss:   0.707\n",
            "-------------------------------------------------------------------------------------\n",
            "| epoch   2 |   300/  952 batches | accuracy    0.731| loss 0.68008\n",
            "| epoch   2 |   600/  952 batches | accuracy    0.503| loss 0.66452\n",
            "| epoch   2 |   900/  952 batches | accuracy    0.617| loss 0.62024\n",
            "-------------------------------------------------------------------------------------\n",
            "  | end of epoch   2 | time: 24.67s | valid accuracy    0.627 | valid loss:   0.686\n",
            "-------------------------------------------------------------------------------------\n",
            "| epoch   3 |   300/  952 batches | accuracy    0.724| loss 0.66540\n",
            "| epoch   3 |   600/  952 batches | accuracy    0.582| loss 0.63520\n",
            "| epoch   3 |   900/  952 batches | accuracy    0.664| loss 0.57280\n",
            "-------------------------------------------------------------------------------------\n",
            "  | end of epoch   3 | time: 23.81s | valid accuracy    0.644 | valid loss:   0.674\n",
            "-------------------------------------------------------------------------------------\n",
            "| epoch   4 |   300/  952 batches | accuracy    0.729| loss 0.66645\n",
            "| epoch   4 |   600/  952 batches | accuracy    0.623| loss 0.59951\n",
            "| epoch   4 |   900/  952 batches | accuracy    0.691| loss 0.51145\n",
            "-------------------------------------------------------------------------------------\n",
            "  | end of epoch   4 | time: 23.42s | valid accuracy    0.649 | valid loss:   0.676\n",
            "-------------------------------------------------------------------------------------\n",
            "| epoch   5 |   300/  952 batches | accuracy    0.744| loss 0.63484\n",
            "| epoch   5 |   600/  952 batches | accuracy    0.649| loss 0.56963\n",
            "| epoch   5 |   900/  952 batches | accuracy    0.710| loss 0.48084\n",
            "-------------------------------------------------------------------------------------\n",
            "  | end of epoch   5 | time: 23.32s | valid accuracy    0.657 | valid loss:   0.673\n",
            "-------------------------------------------------------------------------------------\n",
            "| epoch   6 |   300/  952 batches | accuracy    0.757| loss 0.63058\n",
            "| epoch   6 |   600/  952 batches | accuracy    0.669| loss 0.55226\n",
            "| epoch   6 |   900/  952 batches | accuracy    0.727| loss 0.46537\n",
            "-------------------------------------------------------------------------------------\n",
            "  | end of epoch   6 | time: 23.31s | valid accuracy    0.661 | valid loss:   0.672\n",
            "-------------------------------------------------------------------------------------\n",
            "| epoch   7 |   300/  952 batches | accuracy    0.765| loss 0.63126\n",
            "| epoch   7 |   600/  952 batches | accuracy    0.685| loss 0.52616\n",
            "| epoch   7 |   900/  952 batches | accuracy    0.740| loss 0.44834\n",
            "-------------------------------------------------------------------------------------\n",
            "  | end of epoch   7 | time: 23.35s | valid accuracy    0.665 | valid loss:   0.675\n",
            "-------------------------------------------------------------------------------------\n",
            "| epoch   8 |   300/  952 batches | accuracy    0.774| loss 0.61193\n",
            "| epoch   8 |   600/  952 batches | accuracy    0.698| loss 0.51797\n",
            "| epoch   8 |   900/  952 batches | accuracy    0.751| loss 0.41813\n",
            "-------------------------------------------------------------------------------------\n",
            "  | end of epoch   8 | time: 23.39s | valid accuracy    0.668 | valid loss:   0.674\n",
            "-------------------------------------------------------------------------------------\n",
            "| epoch   9 |   300/  952 batches | accuracy    0.779| loss 0.63535\n",
            "| epoch   9 |   600/  952 batches | accuracy    0.709| loss 0.49881\n",
            "| epoch   9 |   900/  952 batches | accuracy    0.760| loss 0.40590\n",
            "-------------------------------------------------------------------------------------\n",
            "  | end of epoch   9 | time: 23.43s | valid accuracy    0.669 | valid loss:   0.676\n",
            "-------------------------------------------------------------------------------------\n",
            "| epoch  10 |   300/  952 batches | accuracy    0.785| loss 0.62002\n",
            "| epoch  10 |   600/  952 batches | accuracy    0.716| loss 0.49145\n",
            "| epoch  10 |   900/  952 batches | accuracy    0.768| loss 0.39510\n",
            "-------------------------------------------------------------------------------------\n",
            "  | end of epoch  10 | time: 23.57s | valid accuracy    0.668 | valid loss:   0.680\n",
            "-------------------------------------------------------------------------------------\n",
            "| epoch  11 |   300/  952 batches | accuracy    0.790| loss 0.61898\n",
            "| epoch  11 |   600/  952 batches | accuracy    0.723| loss 0.49780\n",
            "| epoch  11 |   900/  952 batches | accuracy    0.773| loss 0.40036\n",
            "-------------------------------------------------------------------------------------\n",
            "  | end of epoch  11 | time: 23.48s | valid accuracy    0.669 | valid loss:   0.681\n",
            "-------------------------------------------------------------------------------------\n",
            "| epoch  12 |   300/  952 batches | accuracy    0.793| loss 0.59717\n",
            "| epoch  12 |   600/  952 batches | accuracy    0.731| loss 0.49099\n",
            "| epoch  12 |   900/  952 batches | accuracy    0.781| loss 0.41759\n",
            "-------------------------------------------------------------------------------------\n",
            "  | end of epoch  12 | time: 23.43s | valid accuracy    0.669 | valid loss:   0.693\n",
            "-------------------------------------------------------------------------------------\n",
            "\n",
            " === Early Stopping ===\n",
            "\n",
            "Val_accuracy:  0.6693649685973482  - F1-score:  0.6680788760535668  - Recall: 0.668912106087399\n",
            "\n"
          ]
        }
      ],
      "source": [
        "model_ME_Concat_cs, metrics_ME_Concat_cs = train_loop(\n",
        "           lambda **pp:  ME(n_output=2, merging_mode = Merg_Mode.CONCAT, cs=True, **pp).to(DEVICE),\n",
        "           train_dataloader, \n",
        "           val_dataloader, \n",
        "           epochs=20, \n",
        "           criterion = torch.nn.CrossEntropyLoss(weight=torch.from_numpy(WEIGHTS).to(DEVICE)),\n",
        "           params = {'hidden': 128, 'LR_Adam': 0.0001}, \n",
        "           verbose=True,\n",
        "           scheduler_parr = {'step_size': 6, 'gamma':.1},\n",
        "           early_stop_patience = 4\n",
        "           )"
      ]
    },
    {
      "cell_type": "code",
      "execution_count": 36,
      "metadata": {
        "id": "PvHqYBE8lN79",
        "colab": {
          "base_uri": "https://localhost:8080/"
        },
        "outputId": "90fbec83-489d-43cf-f7f0-e3ba47aefc93"
      },
      "outputs": [
        {
          "output_type": "stream",
          "name": "stdout",
          "text": [
            "| epoch   1 |   300/  952 batches | accuracy    0.729| loss 0.68803\n",
            "| epoch   1 |   600/  952 batches | accuracy    0.375| loss 0.69657\n",
            "| epoch   1 |   900/  952 batches | accuracy    0.477| loss 0.67924\n",
            "-------------------------------------------------------------------------------------\n",
            "  | end of epoch   1 | time: 23.29s | valid accuracy    0.537 | valid loss:   0.705\n",
            "-------------------------------------------------------------------------------------\n",
            "| epoch   2 |   300/  952 batches | accuracy    0.752| loss 0.68806\n",
            "| epoch   2 |   600/  952 batches | accuracy    0.396| loss 0.68789\n",
            "| epoch   2 |   900/  952 batches | accuracy    0.520| loss 0.66689\n",
            "-------------------------------------------------------------------------------------\n",
            "  | end of epoch   2 | time: 23.29s | valid accuracy    0.582 | valid loss:   0.692\n",
            "-------------------------------------------------------------------------------------\n",
            "| epoch   3 |   300/  952 batches | accuracy    0.723| loss 0.67918\n",
            "| epoch   3 |   600/  952 batches | accuracy    0.471| loss 0.68011\n",
            "| epoch   3 |   900/  952 batches | accuracy    0.583| loss 0.63019\n",
            "-------------------------------------------------------------------------------------\n",
            "  | end of epoch   3 | time: 23.26s | valid accuracy    0.608 | valid loss:   0.672\n",
            "-------------------------------------------------------------------------------------\n",
            "| epoch   4 |   300/  952 batches | accuracy    0.710| loss 0.67607\n",
            "| epoch   4 |   600/  952 batches | accuracy    0.546| loss 0.65710\n",
            "| epoch   4 |   900/  952 batches | accuracy    0.623| loss 0.59895\n",
            "-------------------------------------------------------------------------------------\n",
            "  | end of epoch   4 | time: 23.30s | valid accuracy    0.621 | valid loss:   0.658\n",
            "-------------------------------------------------------------------------------------\n",
            "| epoch   5 |   300/  952 batches | accuracy    0.710| loss 0.68062\n",
            "| epoch   5 |   600/  952 batches | accuracy    0.588| loss 0.64292\n",
            "| epoch   5 |   900/  952 batches | accuracy    0.653| loss 0.57901\n",
            "-------------------------------------------------------------------------------------\n",
            "  | end of epoch   5 | time: 23.26s | valid accuracy    0.631 | valid loss:   0.652\n",
            "-------------------------------------------------------------------------------------\n",
            "| epoch   6 |   300/  952 batches | accuracy    0.723| loss 0.65448\n",
            "| epoch   6 |   600/  952 batches | accuracy    0.616| loss 0.61231\n",
            "| epoch   6 |   900/  952 batches | accuracy    0.670| loss 0.54403\n",
            "-------------------------------------------------------------------------------------\n",
            "  | end of epoch   6 | time: 23.29s | valid accuracy    0.637 | valid loss:   0.651\n",
            "-------------------------------------------------------------------------------------\n",
            "| epoch   7 |   300/  952 batches | accuracy    0.729| loss 0.67735\n",
            "| epoch   7 |   600/  952 batches | accuracy    0.639| loss 0.59388\n",
            "| epoch   7 |   900/  952 batches | accuracy    0.691| loss 0.51987\n",
            "-------------------------------------------------------------------------------------\n",
            "  | end of epoch   7 | time: 23.26s | valid accuracy    0.640 | valid loss:   0.655\n",
            "-------------------------------------------------------------------------------------\n",
            "| epoch   8 |   300/  952 batches | accuracy    0.740| loss 0.65040\n",
            "| epoch   8 |   600/  952 batches | accuracy    0.652| loss 0.58804\n",
            "| epoch   8 |   900/  952 batches | accuracy    0.703| loss 0.51088\n",
            "-------------------------------------------------------------------------------------\n",
            "  | end of epoch   8 | time: 23.30s | valid accuracy    0.644 | valid loss:   0.661\n",
            "-------------------------------------------------------------------------------------\n",
            "| epoch   9 |   300/  952 batches | accuracy    0.748| loss 0.66220\n",
            "| epoch   9 |   600/  952 batches | accuracy    0.669| loss 0.58221\n",
            "| epoch   9 |   900/  952 batches | accuracy    0.717| loss 0.46268\n",
            "-------------------------------------------------------------------------------------\n",
            "  | end of epoch   9 | time: 23.21s | valid accuracy    0.641 | valid loss:   0.667\n",
            "-------------------------------------------------------------------------------------\n",
            "| epoch  10 |   300/  952 batches | accuracy    0.753| loss 0.66343\n",
            "| epoch  10 |   600/  952 batches | accuracy    0.681| loss 0.56274\n",
            "| epoch  10 |   900/  952 batches | accuracy    0.727| loss 0.45087\n",
            "-------------------------------------------------------------------------------------\n",
            "  | end of epoch  10 | time: 23.18s | valid accuracy    0.642 | valid loss:   0.682\n",
            "-------------------------------------------------------------------------------------\n",
            "\n",
            " === Early Stopping ===\n",
            "\n",
            "Val_accuracy:  0.6421493370551291  - F1-score:  0.6406226427614113  - Recall: 0.6416714341394478\n",
            "\n"
          ]
        }
      ],
      "source": [
        "model_ME_Mean_cs, metrics_ME_Mean_cs = train_loop(\n",
        "           lambda **pp:  ME(n_output=2, merging_mode = Merg_Mode.MEAN, cs=True, **pp).to(DEVICE),\n",
        "           train_dataloader, \n",
        "           val_dataloader, \n",
        "           epochs=20, \n",
        "           criterion = torch.nn.CrossEntropyLoss(weight=torch.from_numpy(WEIGHTS).to(DEVICE)),\n",
        "           params = {'hidden': 128, 'LR_Adam': 0.0001}, \n",
        "           verbose=True,\n",
        "           scheduler_parr = {'step_size': 6, 'gamma':.1},\n",
        "           early_stop_patience = 4\n",
        "           )"
      ]
    },
    {
      "cell_type": "code",
      "execution_count": 37,
      "metadata": {
        "id": "UjmjgMqllN79",
        "colab": {
          "base_uri": "https://localhost:8080/"
        },
        "outputId": "7b710f99-014b-4a6d-b578-9dcbc35782e6"
      },
      "outputs": [
        {
          "output_type": "stream",
          "name": "stdout",
          "text": [
            "| epoch   1 |   300/  952 batches | accuracy    0.762| loss 0.69549\n",
            "| epoch   1 |   600/  952 batches | accuracy    0.363| loss 0.69095\n",
            "| epoch   1 |   900/  952 batches | accuracy    0.507| loss 0.68018\n",
            "-------------------------------------------------------------------------------------\n",
            "  | end of epoch   1 | time: 23.23s | valid accuracy    0.555 | valid loss:   0.706\n",
            "-------------------------------------------------------------------------------------\n",
            "| epoch   2 |   300/  952 batches | accuracy    0.740| loss 0.68484\n",
            "| epoch   2 |   600/  952 batches | accuracy    0.422| loss 0.68704\n",
            "| epoch   2 |   900/  952 batches | accuracy    0.559| loss 0.66172\n",
            "-------------------------------------------------------------------------------------\n",
            "  | end of epoch   2 | time: 23.28s | valid accuracy    0.593 | valid loss:   0.691\n",
            "-------------------------------------------------------------------------------------\n",
            "| epoch   3 |   300/  952 batches | accuracy    0.720| loss 0.67792\n",
            "| epoch   3 |   600/  952 batches | accuracy    0.509| loss 0.66242\n",
            "| epoch   3 |   900/  952 batches | accuracy    0.608| loss 0.62653\n",
            "-------------------------------------------------------------------------------------\n",
            "  | end of epoch   3 | time: 23.23s | valid accuracy    0.611 | valid loss:   0.666\n",
            "-------------------------------------------------------------------------------------\n",
            "| epoch   4 |   300/  952 batches | accuracy    0.711| loss 0.68633\n",
            "| epoch   4 |   600/  952 batches | accuracy    0.567| loss 0.64554\n",
            "| epoch   4 |   900/  952 batches | accuracy    0.640| loss 0.58074\n",
            "-------------------------------------------------------------------------------------\n",
            "  | end of epoch   4 | time: 23.28s | valid accuracy    0.620 | valid loss:   0.647\n",
            "-------------------------------------------------------------------------------------\n",
            "| epoch   5 |   300/  952 batches | accuracy    0.716| loss 0.67969\n",
            "| epoch   5 |   600/  952 batches | accuracy    0.602| loss 0.63367\n",
            "| epoch   5 |   900/  952 batches | accuracy    0.662| loss 0.56759\n",
            "-------------------------------------------------------------------------------------\n",
            "  | end of epoch   5 | time: 23.21s | valid accuracy    0.627 | valid loss:   0.640\n",
            "-------------------------------------------------------------------------------------\n",
            "| epoch   6 |   300/  952 batches | accuracy    0.727| loss 0.69060\n",
            "| epoch   6 |   600/  952 batches | accuracy    0.625| loss 0.60516\n",
            "| epoch   6 |   900/  952 batches | accuracy    0.683| loss 0.51897\n",
            "-------------------------------------------------------------------------------------\n",
            "  | end of epoch   6 | time: 23.24s | valid accuracy    0.636 | valid loss:   0.641\n",
            "-------------------------------------------------------------------------------------\n",
            "| epoch   7 |   300/  952 batches | accuracy    0.736| loss 0.69085\n",
            "| epoch   7 |   600/  952 batches | accuracy    0.648| loss 0.58764\n",
            "| epoch   7 |   900/  952 batches | accuracy    0.699| loss 0.50520\n",
            "-------------------------------------------------------------------------------------\n",
            "  | end of epoch   7 | time: 23.28s | valid accuracy    0.638 | valid loss:   0.645\n",
            "-------------------------------------------------------------------------------------\n",
            "| epoch   8 |   300/  952 batches | accuracy    0.748| loss 0.69479\n",
            "| epoch   8 |   600/  952 batches | accuracy    0.665| loss 0.58073\n",
            "| epoch   8 |   900/  952 batches | accuracy    0.713| loss 0.48126\n",
            "-------------------------------------------------------------------------------------\n",
            "  | end of epoch   8 | time: 23.23s | valid accuracy    0.644 | valid loss:   0.657\n",
            "-------------------------------------------------------------------------------------\n",
            "| epoch   9 |   300/  952 batches | accuracy    0.753| loss 0.68088\n",
            "| epoch   9 |   600/  952 batches | accuracy    0.676| loss 0.54765\n",
            "| epoch   9 |   900/  952 batches | accuracy    0.725| loss 0.43723\n",
            "-------------------------------------------------------------------------------------\n",
            "  | end of epoch   9 | time: 23.25s | valid accuracy    0.646 | valid loss:   0.659\n",
            "-------------------------------------------------------------------------------------\n",
            "\n",
            " === Early Stopping ===\n",
            "\n",
            "Val_accuracy:  0.6459176552686672  - F1-score:  0.6455065476917261  - Recall: 0.6456876046383003\n",
            "\n"
          ]
        }
      ],
      "source": [
        "model_ME_Sum_cs, metrics_ME_Sum_cs = train_loop(\n",
        "           lambda **pp:  ME(n_output=2, merging_mode = Merg_Mode.SUM, cs=True, **pp).to(DEVICE),\n",
        "           train_dataloader, \n",
        "           val_dataloader, \n",
        "           epochs=20, \n",
        "           criterion = torch.nn.CrossEntropyLoss(weight=torch.from_numpy(WEIGHTS).to(DEVICE)),\n",
        "           params = {'hidden': 128, 'LR_Adam': 0.0001}, \n",
        "           verbose=True,\n",
        "           scheduler_parr = {'step_size': 6, 'gamma':.1},\n",
        "           early_stop_patience = 4\n",
        "           )"
      ]
    },
    {
      "cell_type": "markdown",
      "metadata": {
        "id": "PFRA30aGlN7-"
      },
      "source": [
        "#### Comparison"
      ]
    },
    {
      "cell_type": "code",
      "execution_count": null,
      "metadata": {
        "id": "bLArsSOvlN7-"
      },
      "outputs": [],
      "source": [
        "print(f\"Model: ME Mean    | Validation F1-score macro: {metrics_ME_Concat_cs['f1_score']}\")\n",
        "print(f\"Model: ME Concat  | Validation F1-score macro: {metrics_ME_Sum_cs['f1_score']}\")\n",
        "print(f\"Model: ME Sum     | Validation F1-score macro: {metrics_ME_Mean_cs['f1_score']}\")"
      ]
    },
    {
      "cell_type": "markdown",
      "metadata": {
        "id": "P7loV6Giqvei"
      },
      "source": [
        "## Evaluation"
      ]
    },
    {
      "cell_type": "markdown",
      "source": [
        "According to the results that we obtained, and after a comparison made on the validation set, the best model architecture turned out to be the MRNN model with the concatenation merging mode. We apply the final evaluation on this model."
      ],
      "metadata": {
        "id": "Fn4ISd6SV3G4"
      }
    },
    {
      "cell_type": "code",
      "execution_count": 88,
      "metadata": {
        "id": "g8B1XrMglN7-",
        "colab": {
          "base_uri": "https://localhost:8080/"
        },
        "outputId": "a1e75c0d-03d5-4cbc-bdaf-cf1dfa16343b"
      },
      "outputs": [
        {
          "output_type": "stream",
          "name": "stdout",
          "text": [
            "Weights matrix size: (44461, 200)\n"
          ]
        }
      ],
      "source": [
        "ENCODED_TEST_DF = apply_conversion(TEST_DF, WORD_TO_POSITION_DD)\n",
        "\n",
        "test_dataloader = DataLoader(\n",
        "    CustomTextDataset(ENCODED_TEST_DF),\n",
        "    batch_size=BATCH_SIZE,\n",
        "    collate_fn=Define_padding()\n",
        ")"
      ]
    },
    {
      "cell_type": "code",
      "source": [
        "# We update the embedding matrix with the OOV terms coming from the test set\n",
        "model_MRNN_Concat_cs.update_embedding(np.concatenate([model_MRNN_Concat_cs.embedding.weight.cpu().detach().numpy(),\\\n",
        "                                          WEIGHT_MATRIX[model_MRNN_Concat_cs.embedding.weight.size(0):,:]]))\n"
      ],
      "metadata": {
        "id": "N-op7-WWmaRL"
      },
      "execution_count": 50,
      "outputs": []
    },
    {
      "cell_type": "markdown",
      "metadata": {
        "id": "OWwfnD7ukAEi"
      },
      "source": [
        "### Multi-input classification evaluation"
      ]
    },
    {
      "cell_type": "code",
      "source": [
        "_, test_accuracy, labels_and_pred_accum = evaluate(test_dataloader, model_MRNN_Concat_cs.cuda(), retain=True)\n",
        "\n",
        "print(\"Model: MRNN with concatenation merging mode:\")\n",
        "print(f\"Test F1-score: {get_f1_score(labels_and_pred_accum)} | Test accuracy: {test_accuracy}\")\n",
        "print(f\"Test Precision: {get_precision(labels_and_pred_accum)} | Test recall: {get_recall_score(labels_and_pred_accum)}\")\n"
      ],
      "metadata": {
        "id": "rEzEmZ-cUQaj",
        "colab": {
          "base_uri": "https://localhost:8080/"
        },
        "outputId": "6d941e92-b3ba-4888-d105-3c62d482aa28"
      },
      "execution_count": 51,
      "outputs": [
        {
          "output_type": "stream",
          "name": "stdout",
          "text": [
            "Model: MRNN with concatenation merging mode:\n",
            "Test F1-score: 0.6601177322315155 | Test accuracy: 0.6630963972736125\n",
            "Test Precision: 0.6685089812837584 | Test recall: 0.6628036752712669\n"
          ]
        }
      ]
    },
    {
      "cell_type": "markdown",
      "metadata": {
        "id": "TJ7bjEDOkAEi"
      },
      "source": [
        "###  Claim verification evaluation"
      ]
    },
    {
      "cell_type": "code",
      "execution_count": 65,
      "metadata": {
        "id": "dIgdz6HlkAEi"
      },
      "outputs": [],
      "source": [
        "def Claim_evaluation(dataframe,model,pad=False):\n",
        "  id_unique,id_index,_=np.unique(dataframe['ID'],return_counts=True,return_index=True)\n",
        "  model.eval()\n",
        "  with torch.no_grad():\n",
        "    total=0 \n",
        "    predicted=[]\n",
        "    for i in id_index:\n",
        "      predictions_same_claim=0\n",
        "      evidences=dataframe['Evidence'][dataframe['ID']==dataframe['ID'].iloc[i]]\n",
        "      voted=[]\n",
        "      for j in evidences:\n",
        "        accumulated_good_pred, total_count = 0, 0\n",
        "       \n",
        "        predicted_label = model( tensor(dataframe['Claim'].iloc[i]).reshape((1,-1)), tensor(j).reshape((1,-1)))\n",
        "        voted.append(predicted_label.argmax(1).item())\n",
        "        predictions_same_claim+=(predicted_label.argmax(1)==dataframe['Label'].iloc[i].argmax(0)).sum().item()\n",
        "\n",
        "      a,b=np.unique(voted,return_counts=True)\n",
        "      a=a[np.argmax(b)]\n",
        "      predicted.append(a)\n",
        "\n",
        "      total+=(predictions_same_claim/len(evidences)>0.5)\n",
        "\n",
        "    return total/id_unique.shape[0], predicted, dataframe['Label'][id_index].apply(lambda x: x.argmax(0).item())"
      ]
    },
    {
      "cell_type": "code",
      "execution_count": 66,
      "metadata": {
        "id": "MinTnJ6RkAEi"
      },
      "outputs": [],
      "source": [
        "accuracy,y_pred,y_true=Claim_evaluation(ENCODED_TEST_DF,model_MRNN_Concat_cs.cpu())"
      ]
    },
    {
      "cell_type": "code",
      "execution_count": 69,
      "metadata": {
        "id": "8bCTpdRfkAEj",
        "colab": {
          "base_uri": "https://localhost:8080/"
        },
        "outputId": "ceb9076e-3b37-48b1-eb2c-aa269e630fa9"
      },
      "outputs": [
        {
          "output_type": "stream",
          "name": "stdout",
          "text": [
            "Model: MRNN with concatenation merging mode:\n",
            "Test F1-score: 0.6624353214656651 | Test accuracy: 0.6599122939664298\n",
            "Test Precision: 0.6706918606465081 | Test recall: 0.6651367939956843\n"
          ]
        }
      ],
      "source": [
        "print(\"Model: MRNN with concatenation merging mode:\")\n",
        "print(f\"Test F1-score: {f1_score(y_true, y_pred, average='macro')} | Test accuracy: {accuracy}\")\n",
        "print(f\"Test Precision: {precision_score(y_true, y_pred, average='macro')} | Test recall: {recall_score(y_true, y_pred, average='macro')}\")"
      ]
    },
    {
      "cell_type": "markdown",
      "metadata": {
        "id": "9vG37wXekAEi"
      },
      "source": [
        "## Error analysis and conclusions"
      ]
    },
    {
      "cell_type": "code",
      "source": [
        "from pprint import pformat, pprint\n",
        "\n",
        "revert = lambda dict_: { v:k for k,v in dict_.items() }\n",
        "POSITION_TO_WORD = revert(WORD_TO_POSITION_DD)\n"
      ],
      "metadata": {
        "id": "oUtSZwnw06XM"
      },
      "execution_count": 89,
      "outputs": []
    },
    {
      "cell_type": "code",
      "source": [
        ""
      ],
      "metadata": {
        "id": "1WwmHpED7lyL"
      },
      "execution_count": null,
      "outputs": []
    },
    {
      "cell_type": "code",
      "source": [
        "num=0\n",
        "for i in ENCODED_TEST_DF.index:\n",
        "  predicted_label=model_MRNN_Concat_cs( tensor(ENCODED_TEST_DF['Claim'].iloc[i]).reshape((1,-1)), tensor(ENCODED_TEST_DF['Evidence'].iloc[i]).reshape((1,-1)))\n",
        "  \n",
        "  if(predicted_label.argmax(1)!=ENCODED_TEST_DF['Label'].iloc[i].argmax(0)):\n",
        "    print(\"CLAIM:\")\n",
        "    print(' '.join([POSITION_TO_WORD[j] for j in ENCODED_TEST_DF['Claim'].iloc[i]])) \n",
        "    print(\"EVIDENCE:\")\n",
        "    print(' '.join([POSITION_TO_WORD[j] for j in ENCODED_TEST_DF['Evidence'].iloc[i]]))\n",
        "    print(\"True Prediction:\")\n",
        "    print(ENCODED_TEST_DF['Label'].iloc[i].argmax(0).item())\n",
        "    print(\"Predicted:\")\n",
        "    print(predicted_label.argmax(1).item())\n",
        "    print()\n",
        "    num+=1\n",
        "    if(num==15):\n",
        "      break"
      ],
      "metadata": {
        "colab": {
          "base_uri": "https://localhost:8080/"
        },
        "id": "QigKFdsz33vE",
        "outputId": "cc1143e8-854d-4fc2-ed89-b87d5bcf05a6"
      },
      "execution_count": 94,
      "outputs": [
        {
          "output_type": "stream",
          "name": "stdout",
          "text": [
            "CLAIM:\n",
            "firefox application .\n",
            "EVIDENCE:\n",
            "mozilla firefox ( simply firefox ) free open-source web browser developed mozilla foundation subsidiary mozilla corporation . mozilla foundation mozilla foundation mozilla corporation mozilla corporation free open-source free open-source web browser web browser\n",
            "True Prediction:\n",
            "1\n",
            "Predicted:\n",
            "0\n",
            "\n",
            "CLAIM:\n",
            "google search find stock quotes .\n",
            "EVIDENCE:\n",
            "these include synonyms , weather forecasts , time zones , stock quotes , maps , earthquake data , movie showtimes , airports , home listings , sports scores .\n",
            "True Prediction:\n",
            "1\n",
            "Predicted:\n",
            "0\n",
            "\n",
            "CLAIM:\n",
            "a good day die hard directed john moore .\n",
            "EVIDENCE:\n",
            "the film directed john moore written skip woods , stars bruce willis john mcclane . john moore john moore ( director ) skip woods skip woods bruce willis bruce willis john mcclane john mcclane\n",
            "True Prediction:\n",
            "1\n",
            "Predicted:\n",
            "0\n",
            "\n",
            "CLAIM:\n",
            "spider-man 2 released 2004 .\n",
            "EVIDENCE:\n",
            "spider-man 2 2004 american superhero film directed sam raimi written alvin sargent story alfred gough , miles millar , michael chabon . sam raimi sam raimi alvin sargent alvin sargent alfred gough alfred gough miles millar miles millar michael chabon michael chabon spider-man spider-man ( 2002 film ) superhero superhero film\n",
            "True Prediction:\n",
            "1\n",
            "Predicted:\n",
            "0\n",
            "\n",
            "CLAIM:\n",
            "kaya scodelario director .\n",
            "EVIDENCE:\n",
            "kaya scodelario-davis ( born kaya rose humphrey ; march 13 , 1992 ) english actress . english english people\n",
            "True Prediction:\n",
            "0\n",
            "Predicted:\n",
            "1\n",
            "\n",
            "CLAIM:\n",
            "the brat pack appeared together teen-oriented coming-of-age video games .\n",
            "EVIDENCE:\n",
            "the brat pack nickname given group young actors frequently appeared together teen-oriented coming-of-age films 1980 s . coming-of-age films : category : coming-of-age films\n",
            "True Prediction:\n",
            "0\n",
            "Predicted:\n",
            "1\n",
            "\n",
            "CLAIM:\n",
            "antigua barbuda birthplace christopher columbus .\n",
            "EVIDENCE:\n",
            "during first voyage 1492 , reached new world instead arriving japan intended , landing island bahamas archipelago named `` san salvador '' . new world americas japan japan bahamas archipelago the bahamas\n",
            "True Prediction:\n",
            "0\n",
            "Predicted:\n",
            "1\n",
            "\n",
            "CLAIM:\n",
            "kung fu panda made $ 75 million opening weekend .\n",
            "EVIDENCE:\n",
            "kung fu panda opened 4,114 theaters , grossing $ 20 .3 million opening day $ 60 .2 million opening weekend , resulting number one position box office .\n",
            "True Prediction:\n",
            "0\n",
            "Predicted:\n",
            "1\n",
            "\n",
            "CLAIM:\n",
            "uganda ruled british .\n",
            "EVIDENCE:\n",
            "beginning 1894 , area ruled protectorate british , established administrative law across territory .\n",
            "True Prediction:\n",
            "1\n",
            "Predicted:\n",
            "0\n",
            "\n",
            "CLAIM:\n",
            "firefox operating system shell .\n",
            "EVIDENCE:\n",
            "mozilla firefox ( simply firefox ) free open-source web browser developed mozilla foundation subsidiary mozilla corporation . mozilla foundation mozilla foundation mozilla corporation mozilla corporation free open-source free open-source web browser web browser\n",
            "True Prediction:\n",
            "0\n",
            "Predicted:\n",
            "1\n",
            "\n",
            "CLAIM:\n",
            "scandinavia include mountains .\n",
            "EVIDENCE:\n",
            "much scandinavian mountains alpine tundra climate . scandinavian scandinavian people alpine tundra alpine tundra\n",
            "True Prediction:\n",
            "0\n",
            "Predicted:\n",
            "1\n",
            "\n",
            "CLAIM:\n",
            "the quiet released 2005 .\n",
            "EVIDENCE:\n",
            "the quiet 2005 american drama thriller film directed jamie babbit starring camilla belle elisha cuthbert . jamie babbit jamie babbit camilla belle camilla belle elisha cuthbert elisha cuthbert drama drama film thriller film thriller film\n",
            "True Prediction:\n",
            "1\n",
            "Predicted:\n",
            "0\n",
            "\n",
            "CLAIM:\n",
            "honeymoon third major-label record lana del rey .\n",
            "EVIDENCE:\n",
            "honeymoon fourth studio album third major-label record american singer songwriter lana del rey . lana del rey lana del rey studio album studio album\n",
            "True Prediction:\n",
            "0\n",
            "Predicted:\n",
            "1\n",
            "\n",
            "CLAIM:\n",
            "cambridgeshire 's county council council .\n",
            "EVIDENCE:\n",
            "cambridgeshire county council county council cambridgeshire , england . county council county council cambridgeshire cambridgeshire\n",
            "True Prediction:\n",
            "1\n",
            "Predicted:\n",
            "0\n",
            "\n",
            "CLAIM:\n",
            "cambridgeshire 's county council council .\n",
            "EVIDENCE:\n",
            "local government divided cambridgeshire county council peterborough city council , separate unitary authority . cambridgeshire county council cambridgeshire county council peterborough city council peterborough city council unitary authority unitary authorities england\n",
            "True Prediction:\n",
            "1\n",
            "Predicted:\n",
            "0\n",
            "\n"
          ]
        }
      ]
    }
  ],
  "metadata": {
    "accelerator": "GPU",
    "colab": {
      "collapsed_sections": [],
      "name": "Assignment_2.ipynb",
      "provenance": []
    },
    "kernelspec": {
      "display_name": "nlp_env",
      "language": "python",
      "name": "nlp_env"
    },
    "language_info": {
      "codemirror_mode": {
        "name": "ipython",
        "version": 3
      },
      "file_extension": ".py",
      "mimetype": "text/x-python",
      "name": "python",
      "nbconvert_exporter": "python",
      "pygments_lexer": "ipython3",
      "version": "3.8.10"
    }
  },
  "nbformat": 4,
  "nbformat_minor": 0
}
